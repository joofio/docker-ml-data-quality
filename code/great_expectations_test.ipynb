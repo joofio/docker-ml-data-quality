{
 "cells": [
  {
   "cell_type": "code",
   "execution_count": 1,
   "id": "ac5e57f8-fa20-4a02-b258-e6f493b2b376",
   "metadata": {
    "execution": {
     "iopub.execute_input": "2022-08-24T12:06:40.618744Z",
     "iopub.status.busy": "2022-08-24T12:06:40.618653Z",
     "iopub.status.idle": "2022-08-24T12:06:43.008639Z",
     "shell.execute_reply": "2022-08-24T12:06:43.008375Z",
     "shell.execute_reply.started": "2022-08-24T12:06:40.618714Z"
    },
    "tags": []
   },
   "outputs": [],
   "source": [
    "import pandas as pd\n",
    "import bnlearn as bn\n",
    "import sys\n",
    "import numpy as np\n",
    "from sklearn.pipeline import Pipeline\n",
    "from sklearn.impute import SimpleImputer,KNNImputer\n",
    "from sklearn.compose import ColumnTransformer\n",
    "from sklearn.preprocessing import KBinsDiscretizer\n",
    "from sklearn.preprocessing import OrdinalEncoder,FunctionTransformer\n",
    "from sklearn.model_selection import train_test_split\n",
    "from pgmpy.estimators import PC, HillClimbSearch, ExhaustiveSearch\n",
    "from pgmpy.estimators import K2Score, BicScore\n",
    "from pgmpy.utils import get_example_model\n",
    "from pgmpy.sampling import BayesianModelSampling\n",
    "from pgmpy.models import BayesianNetwork\n",
    "from pgmpy.inference import VariableElimination,BeliefPropagation\n",
    "from sklearn.metrics import accuracy_score\n",
    "from pgmpy.estimators import BayesianEstimator\n",
    "from collections import Counter\n",
    "from imblearn.over_sampling import RandomOverSampler\n",
    "from sklearn.metrics import roc_auc_score\n",
    "from sklearn import preprocessing\n",
    "import great_expectations as ge\n"
   ]
  },
  {
   "cell_type": "code",
   "execution_count": 2,
   "id": "5f3cf68c-735a-4099-aecf-b4bdc08d0b4d",
   "metadata": {
    "execution": {
     "iopub.execute_input": "2022-08-24T12:06:43.009161Z",
     "iopub.status.busy": "2022-08-24T12:06:43.009089Z",
     "iopub.status.idle": "2022-08-24T12:06:43.127350Z",
     "shell.execute_reply": "2022-08-24T12:06:43.127058Z",
     "shell.execute_reply.started": "2022-08-24T12:06:43.009152Z"
    },
    "tags": []
   },
   "outputs": [],
   "source": [
    "silo1 = pd.read_csv(\n",
    "    \"/Users/joaoalmeida/Desktop/tese_local/chvng/CHVNGE_OBSCARE_WCR.csv\", sep=\";\"\n",
    ")"
   ]
  },
  {
   "cell_type": "code",
   "execution_count": 3,
   "id": "b3900ca6-99d4-40a6-9afc-309913266471",
   "metadata": {
    "execution": {
     "iopub.execute_input": "2022-08-24T12:06:43.128822Z",
     "iopub.status.busy": "2022-08-24T12:06:43.128707Z",
     "iopub.status.idle": "2022-08-24T12:06:43.131141Z",
     "shell.execute_reply": "2022-08-24T12:06:43.130707Z",
     "shell.execute_reply.started": "2022-08-24T12:06:43.128810Z"
    },
    "tags": []
   },
   "outputs": [],
   "source": [
    "my_df = ge.from_pandas(\n",
    "    silo1\n",
    ")"
   ]
  },
  {
   "cell_type": "code",
   "execution_count": 4,
   "id": "962405b5-8886-49be-b1a3-75e340c3d7b0",
   "metadata": {
    "execution": {
     "iopub.execute_input": "2022-08-24T12:06:43.131597Z",
     "iopub.status.busy": "2022-08-24T12:06:43.131528Z",
     "iopub.status.idle": "2022-08-24T12:06:43.137471Z",
     "shell.execute_reply": "2022-08-24T12:06:43.137222Z",
     "shell.execute_reply.started": "2022-08-24T12:06:43.131588Z"
    }
   },
   "outputs": [
    {
     "data": {
      "text/plain": [
       "{\n",
       "  \"meta\": {},\n",
       "  \"result\": {\n",
       "    \"element_count\": 8039,\n",
       "    \"missing_count\": 2500,\n",
       "    \"missing_percent\": 31.09839532280134,\n",
       "    \"unexpected_count\": 0,\n",
       "    \"unexpected_percent\": 0.0,\n",
       "    \"unexpected_percent_total\": 0.0,\n",
       "    \"unexpected_percent_nonmissing\": 0.0,\n",
       "    \"partial_unexpected_list\": []\n",
       "  },\n",
       "  \"success\": true,\n",
       "  \"exception_info\": {\n",
       "    \"raised_exception\": false,\n",
       "    \"exception_traceback\": null,\n",
       "    \"exception_message\": null\n",
       "  }\n",
       "}"
      ]
     },
     "execution_count": 4,
     "metadata": {},
     "output_type": "execute_result"
    }
   ],
   "source": [
    "my_df.expect_column_values_to_be_in_set(\"TIPO_GRAVIDEZ\",['ESPONTANEA', 'FIV', 'INSEMINACAO', 'TEC', 'ESTIMULACAO','ICSI'])"
   ]
  },
  {
   "cell_type": "code",
   "execution_count": 5,
   "id": "89cd08fa-e7e9-4d54-abe8-2e2aa517f252",
   "metadata": {
    "execution": {
     "iopub.execute_input": "2022-08-24T12:06:43.138197Z",
     "iopub.status.busy": "2022-08-24T12:06:43.137983Z",
     "iopub.status.idle": "2022-08-24T12:06:43.142426Z",
     "shell.execute_reply": "2022-08-24T12:06:43.142169Z",
     "shell.execute_reply.started": "2022-08-24T12:06:43.138185Z"
    },
    "tags": []
   },
   "outputs": [
    {
     "data": {
      "text/plain": [
       "{\n",
       "  \"meta\": {},\n",
       "  \"result\": {\n",
       "    \"element_count\": 8039,\n",
       "    \"missing_count\": 0,\n",
       "    \"missing_percent\": 0.0,\n",
       "    \"unexpected_count\": 0,\n",
       "    \"unexpected_percent\": 0.0,\n",
       "    \"unexpected_percent_total\": 0.0,\n",
       "    \"unexpected_percent_nonmissing\": 0.0,\n",
       "    \"partial_unexpected_list\": []\n",
       "  },\n",
       "  \"success\": true,\n",
       "  \"exception_info\": {\n",
       "    \"raised_exception\": false,\n",
       "    \"exception_traceback\": null,\n",
       "    \"exception_message\": null\n",
       "  }\n",
       "}"
      ]
     },
     "execution_count": 5,
     "metadata": {},
     "output_type": "execute_result"
    }
   ],
   "source": [
    "my_df.expect_column_values_to_be_in_set(\"TIPO_PARTO\",['Cesariana', 'Parto eutócico cefálico', 'Parto auxiliado por fórceps',\n",
    " 'Parto auxiliado por ventosa', 'Parto eutócico pélvico',\n",
    " 'Grande extração pélvica'])"
   ]
  },
  {
   "cell_type": "code",
   "execution_count": 6,
   "id": "6a8d0b65-3f47-43e8-aef4-ec0d25660e27",
   "metadata": {
    "execution": {
     "iopub.execute_input": "2022-08-24T12:06:43.143001Z",
     "iopub.status.busy": "2022-08-24T12:06:43.142899Z",
     "iopub.status.idle": "2022-08-24T12:06:43.145950Z",
     "shell.execute_reply": "2022-08-24T12:06:43.145734Z",
     "shell.execute_reply.started": "2022-08-24T12:06:43.142992Z"
    },
    "tags": []
   },
   "outputs": [
    {
     "data": {
      "text/plain": [
       "{\n",
       "  \"meta\": {},\n",
       "  \"result\": {\n",
       "    \"element_count\": 8039,\n",
       "    \"missing_count\": 7918,\n",
       "    \"missing_percent\": 98.49483766637641,\n",
       "    \"unexpected_count\": 0,\n",
       "    \"unexpected_percent\": 0.0,\n",
       "    \"unexpected_percent_total\": 0.0,\n",
       "    \"unexpected_percent_nonmissing\": 0.0,\n",
       "    \"partial_unexpected_list\": []\n",
       "  },\n",
       "  \"success\": true,\n",
       "  \"exception_info\": {\n",
       "    \"raised_exception\": false,\n",
       "    \"exception_traceback\": null,\n",
       "    \"exception_message\": null\n",
       "  }\n",
       "}"
      ]
     },
     "execution_count": 6,
     "metadata": {},
     "output_type": "execute_result"
    }
   ],
   "source": [
    "my_df.expect_column_values_to_be_between(\"BISHOP_SCORE\",0,13)"
   ]
  },
  {
   "cell_type": "code",
   "execution_count": 7,
   "id": "8a27c06d-3fef-4700-b94b-b3b515064618",
   "metadata": {
    "execution": {
     "iopub.execute_input": "2022-08-24T12:06:43.146498Z",
     "iopub.status.busy": "2022-08-24T12:06:43.146387Z",
     "iopub.status.idle": "2022-08-24T12:06:43.149593Z",
     "shell.execute_reply": "2022-08-24T12:06:43.149305Z",
     "shell.execute_reply.started": "2022-08-24T12:06:43.146487Z"
    }
   },
   "outputs": [
    {
     "data": {
      "text/plain": [
       "{\n",
       "  \"meta\": {},\n",
       "  \"result\": {\n",
       "    \"element_count\": 8039,\n",
       "    \"missing_count\": 7925,\n",
       "    \"missing_percent\": 98.58191317328026,\n",
       "    \"unexpected_count\": 0,\n",
       "    \"unexpected_percent\": 0.0,\n",
       "    \"unexpected_percent_total\": 0.0,\n",
       "    \"unexpected_percent_nonmissing\": 0.0,\n",
       "    \"partial_unexpected_list\": []\n",
       "  },\n",
       "  \"success\": true,\n",
       "  \"exception_info\": {\n",
       "    \"raised_exception\": false,\n",
       "    \"exception_traceback\": null,\n",
       "    \"exception_message\": null\n",
       "  }\n",
       "}"
      ]
     },
     "execution_count": 7,
     "metadata": {},
     "output_type": "execute_result"
    }
   ],
   "source": [
    "my_df.expect_column_values_to_be_between(\"BISHOP_CONSISTENCIA\",0,2)"
   ]
  },
  {
   "cell_type": "code",
   "execution_count": 8,
   "id": "93a9f7c1-02e1-4246-b475-608c22fd8bb6",
   "metadata": {
    "execution": {
     "iopub.execute_input": "2022-08-24T12:06:43.150141Z",
     "iopub.status.busy": "2022-08-24T12:06:43.150056Z",
     "iopub.status.idle": "2022-08-24T12:06:43.154421Z",
     "shell.execute_reply": "2022-08-24T12:06:43.154092Z",
     "shell.execute_reply.started": "2022-08-24T12:06:43.150132Z"
    },
    "tags": []
   },
   "outputs": [
    {
     "data": {
      "text/plain": [
       "{\n",
       "  \"meta\": {},\n",
       "  \"result\": {\n",
       "    \"element_count\": 8039,\n",
       "    \"missing_count\": 7930,\n",
       "    \"missing_percent\": 98.64410996392586,\n",
       "    \"unexpected_count\": 0,\n",
       "    \"unexpected_percent\": 0.0,\n",
       "    \"unexpected_percent_total\": 0.0,\n",
       "    \"unexpected_percent_nonmissing\": 0.0,\n",
       "    \"partial_unexpected_list\": []\n",
       "  },\n",
       "  \"success\": true,\n",
       "  \"exception_info\": {\n",
       "    \"raised_exception\": false,\n",
       "    \"exception_traceback\": null,\n",
       "    \"exception_message\": null\n",
       "  }\n",
       "}"
      ]
     },
     "execution_count": 8,
     "metadata": {},
     "output_type": "execute_result"
    }
   ],
   "source": [
    "my_df.expect_column_values_to_be_between(\"BISHOP_DESCIDA\",0,3)"
   ]
  },
  {
   "cell_type": "code",
   "execution_count": 9,
   "id": "2ffa8340-72b6-4047-90c1-bfc8030d3de1",
   "metadata": {
    "execution": {
     "iopub.execute_input": "2022-08-24T12:06:43.155486Z",
     "iopub.status.busy": "2022-08-24T12:06:43.155356Z",
     "iopub.status.idle": "2022-08-24T12:06:43.159228Z",
     "shell.execute_reply": "2022-08-24T12:06:43.158851Z",
     "shell.execute_reply.started": "2022-08-24T12:06:43.155474Z"
    },
    "tags": []
   },
   "outputs": [
    {
     "data": {
      "text/plain": [
       "{\n",
       "  \"meta\": {},\n",
       "  \"result\": {\n",
       "    \"element_count\": 8039,\n",
       "    \"missing_count\": 7921,\n",
       "    \"missing_percent\": 98.53215574076377,\n",
       "    \"unexpected_count\": 0,\n",
       "    \"unexpected_percent\": 0.0,\n",
       "    \"unexpected_percent_total\": 0.0,\n",
       "    \"unexpected_percent_nonmissing\": 0.0,\n",
       "    \"partial_unexpected_list\": []\n",
       "  },\n",
       "  \"success\": true,\n",
       "  \"exception_info\": {\n",
       "    \"raised_exception\": false,\n",
       "    \"exception_traceback\": null,\n",
       "    \"exception_message\": null\n",
       "  }\n",
       "}"
      ]
     },
     "execution_count": 9,
     "metadata": {},
     "output_type": "execute_result"
    }
   ],
   "source": [
    "my_df.expect_column_values_to_be_between(\"BISHOP_DILATACAO\",0,3)"
   ]
  },
  {
   "cell_type": "code",
   "execution_count": 10,
   "id": "24a507a2-6bb5-41ca-a808-147607ac96eb",
   "metadata": {
    "execution": {
     "iopub.execute_input": "2022-08-24T12:06:43.159891Z",
     "iopub.status.busy": "2022-08-24T12:06:43.159807Z",
     "iopub.status.idle": "2022-08-24T12:06:43.163611Z",
     "shell.execute_reply": "2022-08-24T12:06:43.163305Z",
     "shell.execute_reply.started": "2022-08-24T12:06:43.159882Z"
    },
    "tags": []
   },
   "outputs": [
    {
     "data": {
      "text/plain": [
       "{\n",
       "  \"meta\": {},\n",
       "  \"result\": {\n",
       "    \"element_count\": 8039,\n",
       "    \"missing_count\": 7924,\n",
       "    \"missing_percent\": 98.56947381515114,\n",
       "    \"unexpected_count\": 0,\n",
       "    \"unexpected_percent\": 0.0,\n",
       "    \"unexpected_percent_total\": 0.0,\n",
       "    \"unexpected_percent_nonmissing\": 0.0,\n",
       "    \"partial_unexpected_list\": []\n",
       "  },\n",
       "  \"success\": true,\n",
       "  \"exception_info\": {\n",
       "    \"raised_exception\": false,\n",
       "    \"exception_traceback\": null,\n",
       "    \"exception_message\": null\n",
       "  }\n",
       "}"
      ]
     },
     "execution_count": 10,
     "metadata": {},
     "output_type": "execute_result"
    }
   ],
   "source": [
    "my_df.expect_column_values_to_be_between(\"BISHOP_EXTINCAO\",0,3)"
   ]
  },
  {
   "cell_type": "code",
   "execution_count": 11,
   "id": "ed6e442b-0c66-4a71-888a-6fc0c4d26585",
   "metadata": {
    "execution": {
     "iopub.execute_input": "2022-08-24T12:06:43.164335Z",
     "iopub.status.busy": "2022-08-24T12:06:43.164173Z",
     "iopub.status.idle": "2022-08-24T12:06:43.167844Z",
     "shell.execute_reply": "2022-08-24T12:06:43.167576Z",
     "shell.execute_reply.started": "2022-08-24T12:06:43.164315Z"
    }
   },
   "outputs": [
    {
     "data": {
      "text/plain": [
       "{\n",
       "  \"meta\": {},\n",
       "  \"result\": {\n",
       "    \"element_count\": 8039,\n",
       "    \"missing_count\": 7927,\n",
       "    \"missing_percent\": 98.6067918895385,\n",
       "    \"unexpected_count\": 0,\n",
       "    \"unexpected_percent\": 0.0,\n",
       "    \"unexpected_percent_total\": 0.0,\n",
       "    \"unexpected_percent_nonmissing\": 0.0,\n",
       "    \"partial_unexpected_list\": []\n",
       "  },\n",
       "  \"success\": true,\n",
       "  \"exception_info\": {\n",
       "    \"raised_exception\": false,\n",
       "    \"exception_traceback\": null,\n",
       "    \"exception_message\": null\n",
       "  }\n",
       "}"
      ]
     },
     "execution_count": 11,
     "metadata": {},
     "output_type": "execute_result"
    }
   ],
   "source": [
    "my_df.expect_column_values_to_be_between(\"BISHOP_POSICAO\",0,2)"
   ]
  },
  {
   "cell_type": "code",
   "execution_count": 12,
   "id": "fbdb2ddb-9f6b-41b9-a3d0-9be57b24bc04",
   "metadata": {
    "execution": {
     "iopub.execute_input": "2022-08-24T12:06:43.169967Z",
     "iopub.status.busy": "2022-08-24T12:06:43.169881Z",
     "iopub.status.idle": "2022-08-24T12:06:43.174263Z",
     "shell.execute_reply": "2022-08-24T12:06:43.173941Z",
     "shell.execute_reply.started": "2022-08-24T12:06:43.169958Z"
    },
    "tags": []
   },
   "outputs": [
    {
     "data": {
      "text/plain": [
       "{\n",
       "  \"meta\": {},\n",
       "  \"result\": {\n",
       "    \"element_count\": 8039,\n",
       "    \"missing_count\": 0,\n",
       "    \"missing_percent\": 0.0,\n",
       "    \"unexpected_count\": 0,\n",
       "    \"unexpected_percent\": 0.0,\n",
       "    \"unexpected_percent_total\": 0.0,\n",
       "    \"unexpected_percent_nonmissing\": 0.0,\n",
       "    \"partial_unexpected_list\": []\n",
       "  },\n",
       "  \"success\": true,\n",
       "  \"exception_info\": {\n",
       "    \"raised_exception\": false,\n",
       "    \"exception_traceback\": null,\n",
       "    \"exception_message\": null\n",
       "  }\n",
       "}"
      ]
     },
     "execution_count": 12,
     "metadata": {},
     "output_type": "execute_result"
    }
   ],
   "source": [
    "my_df.expect_column_values_to_be_in_set(\"GRUPO_ROBSON\",['10', '3', '4', '5', '1', '2', '7', 'UNKNOWN', '6', '9',\"8\"])"
   ]
  },
  {
   "cell_type": "code",
   "execution_count": 13,
   "id": "09c814ea-a1fa-444b-b843-06873700ea6f",
   "metadata": {
    "execution": {
     "iopub.execute_input": "2022-08-24T12:06:43.175118Z",
     "iopub.status.busy": "2022-08-24T12:06:43.174944Z",
     "iopub.status.idle": "2022-08-24T12:06:43.179126Z",
     "shell.execute_reply": "2022-08-24T12:06:43.178905Z",
     "shell.execute_reply.started": "2022-08-24T12:06:43.175103Z"
    },
    "tags": []
   },
   "outputs": [
    {
     "data": {
      "text/plain": [
       "{\n",
       "  \"meta\": {},\n",
       "  \"result\": {\n",
       "    \"element_count\": 8039,\n",
       "    \"missing_count\": 1,\n",
       "    \"missing_percent\": 0.012439358129120536,\n",
       "    \"unexpected_count\": 18,\n",
       "    \"unexpected_percent\": 0.2239363025628266,\n",
       "    \"unexpected_percent_total\": 0.22390844632416967,\n",
       "    \"unexpected_percent_nonmissing\": 0.2239363025628266,\n",
       "    \"partial_unexpected_list\": [\n",
       "      -1.0,\n",
       "      -1.0,\n",
       "      18.0,\n",
       "      22.0,\n",
       "      -1.0,\n",
       "      -1.0,\n",
       "      -1.0,\n",
       "      22.0,\n",
       "      -1.0,\n",
       "      -1.0,\n",
       "      -1.0,\n",
       "      23.0,\n",
       "      23.0,\n",
       "      -1.0,\n",
       "      -1.0,\n",
       "      22.0,\n",
       "      -1.0,\n",
       "      -1.0\n",
       "    ]\n",
       "  },\n",
       "  \"success\": false,\n",
       "  \"exception_info\": {\n",
       "    \"raised_exception\": false,\n",
       "    \"exception_traceback\": null,\n",
       "    \"exception_message\": null\n",
       "  }\n",
       "}"
      ]
     },
     "execution_count": 13,
     "metadata": {},
     "output_type": "execute_result"
    }
   ],
   "source": [
    "my_df.expect_column_values_to_be_between(\"SEMANAS_GESTACAO_PARTO\",24,42)"
   ]
  },
  {
   "cell_type": "code",
   "execution_count": 14,
   "id": "16584387-d820-49dc-b5f9-3febc25019d6",
   "metadata": {
    "execution": {
     "iopub.execute_input": "2022-08-24T12:06:43.179818Z",
     "iopub.status.busy": "2022-08-24T12:06:43.179691Z",
     "iopub.status.idle": "2022-08-24T12:06:43.183494Z",
     "shell.execute_reply": "2022-08-24T12:06:43.183241Z",
     "shell.execute_reply.started": "2022-08-24T12:06:43.179806Z"
    },
    "tags": []
   },
   "outputs": [
    {
     "data": {
      "text/plain": [
       "{\n",
       "  \"meta\": {},\n",
       "  \"result\": {\n",
       "    \"element_count\": 8039,\n",
       "    \"missing_count\": 556,\n",
       "    \"missing_percent\": 6.916283119791018,\n",
       "    \"unexpected_count\": 29,\n",
       "    \"unexpected_percent\": 0.3875451022317252,\n",
       "    \"unexpected_percent_total\": 0.3607413857444956,\n",
       "    \"unexpected_percent_nonmissing\": 0.3875451022317252,\n",
       "    \"partial_unexpected_list\": [\n",
       "      124.0,\n",
       "      126.0,\n",
       "      128.0,\n",
       "      131.0,\n",
       "      135.0,\n",
       "      122.0,\n",
       "      143.0,\n",
       "      150.0,\n",
       "      152.0,\n",
       "      165.0,\n",
       "      126.0,\n",
       "      130.0,\n",
       "      132.0,\n",
       "      162.0,\n",
       "      152.0,\n",
       "      155.0,\n",
       "      133.0,\n",
       "      130.0,\n",
       "      134.0,\n",
       "      131.0\n",
       "    ]\n",
       "  },\n",
       "  \"success\": false,\n",
       "  \"exception_info\": {\n",
       "    \"raised_exception\": false,\n",
       "    \"exception_traceback\": null,\n",
       "    \"exception_message\": null\n",
       "  }\n",
       "}"
      ]
     },
     "execution_count": 14,
     "metadata": {},
     "output_type": "execute_result"
    }
   ],
   "source": [
    "my_df.expect_column_values_to_be_between(\"PESO_INICIAL\",30,120)"
   ]
  },
  {
   "cell_type": "code",
   "execution_count": 15,
   "id": "162443d1-3072-4ffc-8654-7c61d6b5627f",
   "metadata": {
    "execution": {
     "iopub.execute_input": "2022-08-24T12:06:43.184084Z",
     "iopub.status.busy": "2022-08-24T12:06:43.183972Z",
     "iopub.status.idle": "2022-08-24T12:06:43.185514Z",
     "shell.execute_reply": "2022-08-24T12:06:43.185291Z",
     "shell.execute_reply.started": "2022-08-24T12:06:43.184075Z"
    },
    "tags": []
   },
   "outputs": [],
   "source": [
    "#my_df.expect_column_mean_to_be_between(\"IDADE_MATERNA\",25,35)"
   ]
  },
  {
   "cell_type": "code",
   "execution_count": 16,
   "id": "b3c6a4d9-6a0a-45a2-a896-c59e13a3d596",
   "metadata": {
    "execution": {
     "iopub.execute_input": "2022-08-24T12:06:43.185898Z",
     "iopub.status.busy": "2022-08-24T12:06:43.185842Z",
     "iopub.status.idle": "2022-08-24T12:06:43.189067Z",
     "shell.execute_reply": "2022-08-24T12:06:43.188813Z",
     "shell.execute_reply.started": "2022-08-24T12:06:43.185890Z"
    },
    "tags": []
   },
   "outputs": [
    {
     "data": {
      "text/plain": [
       "{\n",
       "  \"meta\": {},\n",
       "  \"result\": {\n",
       "    \"element_count\": 8039,\n",
       "    \"missing_count\": 7768,\n",
       "    \"missing_percent\": 96.62893394700833,\n",
       "    \"unexpected_count\": 3,\n",
       "    \"unexpected_percent\": 1.107011070110701,\n",
       "    \"unexpected_percent_total\": 0.03731807438736161,\n",
       "    \"unexpected_percent_nonmissing\": 1.107011070110701,\n",
       "    \"partial_unexpected_list\": [\n",
       "      10.0,\n",
       "      133.0,\n",
       "      132.0\n",
       "    ]\n",
       "  },\n",
       "  \"success\": false,\n",
       "  \"exception_info\": {\n",
       "    \"raised_exception\": false,\n",
       "    \"exception_traceback\": null,\n",
       "    \"exception_message\": null\n",
       "  }\n",
       "}"
      ]
     },
     "execution_count": 16,
     "metadata": {},
     "output_type": "execute_result"
    }
   ],
   "source": [
    "my_df.expect_column_values_to_be_between(\"PESO_ADMISSAO_INTERNAMENTO\",30,120)"
   ]
  },
  {
   "cell_type": "code",
   "execution_count": 17,
   "id": "4a772d90-321c-4bce-aa72-be7436793b52",
   "metadata": {
    "execution": {
     "iopub.execute_input": "2022-08-24T12:06:43.189636Z",
     "iopub.status.busy": "2022-08-24T12:06:43.189521Z",
     "iopub.status.idle": "2022-08-24T12:06:43.193347Z",
     "shell.execute_reply": "2022-08-24T12:06:43.193015Z",
     "shell.execute_reply.started": "2022-08-24T12:06:43.189625Z"
    },
    "tags": []
   },
   "outputs": [
    {
     "data": {
      "text/plain": [
       "{\n",
       "  \"meta\": {},\n",
       "  \"result\": {\n",
       "    \"element_count\": 8039,\n",
       "    \"missing_count\": 599,\n",
       "    \"missing_percent\": 7.451175519343202,\n",
       "    \"unexpected_count\": 11,\n",
       "    \"unexpected_percent\": 0.1478494623655914,\n",
       "    \"unexpected_percent_total\": 0.13683293942032593,\n",
       "    \"unexpected_percent_nonmissing\": 0.1478494623655914,\n",
       "    \"partial_unexpected_list\": [\n",
       "      50.7,\n",
       "      51.3,\n",
       "      55.8,\n",
       "      318.3,\n",
       "      70.0,\n",
       "      51.6,\n",
       "      56.1,\n",
       "      55.8,\n",
       "      307.5,\n",
       "      52.3,\n",
       "      448.8\n",
       "    ]\n",
       "  },\n",
       "  \"success\": false,\n",
       "  \"exception_info\": {\n",
       "    \"raised_exception\": false,\n",
       "    \"exception_traceback\": null,\n",
       "    \"exception_message\": null\n",
       "  }\n",
       "}"
      ]
     },
     "execution_count": 17,
     "metadata": {},
     "output_type": "execute_result"
    }
   ],
   "source": [
    "my_df.expect_column_values_to_be_between(\"IMC\",15,50)"
   ]
  },
  {
   "cell_type": "code",
   "execution_count": 18,
   "id": "fd1aff0d-204f-4d8b-9ec5-a0139f0b813f",
   "metadata": {
    "execution": {
     "iopub.execute_input": "2022-08-24T12:06:43.194244Z",
     "iopub.status.busy": "2022-08-24T12:06:43.194025Z",
     "iopub.status.idle": "2022-08-24T12:06:43.224345Z",
     "shell.execute_reply": "2022-08-24T12:06:43.224041Z",
     "shell.execute_reply.started": "2022-08-24T12:06:43.194228Z"
    },
    "tags": []
   },
   "outputs": [
    {
     "data": {
      "text/plain": [
       "{\n",
       "  \"meta\": {},\n",
       "  \"result\": {\n",
       "    \"element_count\": 8039,\n",
       "    \"missing_count\": 0,\n",
       "    \"missing_percent\": 0.0,\n",
       "    \"unexpected_count\": 0,\n",
       "    \"unexpected_percent\": 0.0,\n",
       "    \"unexpected_percent_total\": 0.0,\n",
       "    \"unexpected_percent_nonmissing\": 0.0,\n",
       "    \"partial_unexpected_list\": []\n",
       "  },\n",
       "  \"success\": true,\n",
       "  \"exception_info\": {\n",
       "    \"raised_exception\": false,\n",
       "    \"exception_traceback\": null,\n",
       "    \"exception_message\": null\n",
       "  }\n",
       "}"
      ]
     },
     "execution_count": 18,
     "metadata": {},
     "output_type": "execute_result"
    }
   ],
   "source": [
    "my_df.expect_column_values_to_match_strftime_format(\"DATA_PARTO\",\"%d/%m/%Y\")"
   ]
  },
  {
   "cell_type": "code",
   "execution_count": 19,
   "id": "6b768382-ee62-44e2-8cc6-7122a7cf9698",
   "metadata": {
    "execution": {
     "iopub.execute_input": "2022-08-24T12:06:43.225269Z",
     "iopub.status.busy": "2022-08-24T12:06:43.225154Z",
     "iopub.status.idle": "2022-08-24T12:06:43.242858Z",
     "shell.execute_reply": "2022-08-24T12:06:43.242494Z",
     "shell.execute_reply.started": "2022-08-24T12:06:43.225259Z"
    }
   },
   "outputs": [
    {
     "data": {
      "text/plain": [
       "{\n",
       "  \"meta\": {},\n",
       "  \"result\": {\n",
       "    \"element_count\": 8039,\n",
       "    \"missing_count\": 7910,\n",
       "    \"missing_percent\": 98.39532280134345,\n",
       "    \"unexpected_count\": 0,\n",
       "    \"unexpected_percent\": 0.0,\n",
       "    \"unexpected_percent_total\": 0.0,\n",
       "    \"unexpected_percent_nonmissing\": 0.0,\n",
       "    \"partial_unexpected_list\": []\n",
       "  },\n",
       "  \"success\": true,\n",
       "  \"exception_info\": {\n",
       "    \"raised_exception\": false,\n",
       "    \"exception_traceback\": null,\n",
       "    \"exception_message\": null\n",
       "  }\n",
       "}"
      ]
     },
     "execution_count": 19,
     "metadata": {},
     "output_type": "execute_result"
    }
   ],
   "source": [
    "my_df.expect_column_pair_values_A_to_be_greater_than_B(\"ESTIMATIVA_PESO_ECO_30\",\"ESTIMATIVA_PESO_ECO_25\",ignore_row_if='either_value_is_missing')"
   ]
  },
  {
   "cell_type": "code",
   "execution_count": 20,
   "id": "aa9f56e4-e106-4554-9752-606c03dacac0",
   "metadata": {
    "execution": {
     "iopub.execute_input": "2022-08-24T12:06:43.243412Z",
     "iopub.status.busy": "2022-08-24T12:06:43.243337Z",
     "iopub.status.idle": "2022-08-24T12:06:43.258022Z",
     "shell.execute_reply": "2022-08-24T12:06:43.257764Z",
     "shell.execute_reply.started": "2022-08-24T12:06:43.243403Z"
    }
   },
   "outputs": [
    {
     "data": {
      "text/plain": [
       "{\n",
       "  \"meta\": {},\n",
       "  \"result\": {\n",
       "    \"element_count\": 8039,\n",
       "    \"missing_count\": 7622,\n",
       "    \"missing_percent\": 94.81278766015674,\n",
       "    \"unexpected_count\": 0,\n",
       "    \"unexpected_percent\": 0.0,\n",
       "    \"unexpected_percent_total\": 0.0,\n",
       "    \"unexpected_percent_nonmissing\": 0.0,\n",
       "    \"partial_unexpected_list\": []\n",
       "  },\n",
       "  \"success\": true,\n",
       "  \"exception_info\": {\n",
       "    \"raised_exception\": false,\n",
       "    \"exception_traceback\": null,\n",
       "    \"exception_message\": null\n",
       "  }\n",
       "}"
      ]
     },
     "execution_count": 20,
     "metadata": {},
     "output_type": "execute_result"
    }
   ],
   "source": [
    "my_df.expect_column_pair_values_A_to_be_greater_than_B(\"ESTIMATIVA_PESO_ECO_35\",\"ESTIMATIVA_PESO_ECO_30\",ignore_row_if='either_value_is_missing')"
   ]
  },
  {
   "cell_type": "code",
   "execution_count": 21,
   "id": "fc096388-c146-41fe-b132-72309b53b91a",
   "metadata": {
    "execution": {
     "iopub.execute_input": "2022-08-24T12:06:43.258588Z",
     "iopub.status.busy": "2022-08-24T12:06:43.258515Z",
     "iopub.status.idle": "2022-08-24T12:06:43.274020Z",
     "shell.execute_reply": "2022-08-24T12:06:43.273744Z",
     "shell.execute_reply.started": "2022-08-24T12:06:43.258579Z"
    },
    "tags": []
   },
   "outputs": [
    {
     "data": {
      "text/plain": [
       "{\n",
       "  \"meta\": {},\n",
       "  \"result\": {\n",
       "    \"element_count\": 8039,\n",
       "    \"missing_count\": 8033,\n",
       "    \"missing_percent\": 99.92536385122528,\n",
       "    \"unexpected_count\": 0,\n",
       "    \"unexpected_percent\": 0.0,\n",
       "    \"unexpected_percent_total\": 0.0,\n",
       "    \"unexpected_percent_nonmissing\": 0.0,\n",
       "    \"partial_unexpected_list\": []\n",
       "  },\n",
       "  \"success\": true,\n",
       "  \"exception_info\": {\n",
       "    \"raised_exception\": false,\n",
       "    \"exception_traceback\": null,\n",
       "    \"exception_message\": null\n",
       "  }\n",
       "}"
      ]
     },
     "execution_count": 21,
     "metadata": {},
     "output_type": "execute_result"
    }
   ],
   "source": [
    "my_df.expect_column_pair_values_A_to_be_greater_than_B(\"ESTIMATIVA_PESO_ECO_40\",\"ESTIMATIVA_PESO_ECO_35\",ignore_row_if='either_value_is_missing')"
   ]
  },
  {
   "cell_type": "code",
   "execution_count": 22,
   "id": "add2db9f-4f4c-42d4-8d16-4b4f803b4647",
   "metadata": {
    "execution": {
     "iopub.execute_input": "2022-08-24T12:06:43.274839Z",
     "iopub.status.busy": "2022-08-24T12:06:43.274758Z",
     "iopub.status.idle": "2022-08-24T12:06:43.279125Z",
     "shell.execute_reply": "2022-08-24T12:06:43.278833Z",
     "shell.execute_reply.started": "2022-08-24T12:06:43.274829Z"
    }
   },
   "outputs": [
    {
     "data": {
      "text/plain": [
       "{\n",
       "  \"meta\": {},\n",
       "  \"result\": {\n",
       "    \"element_count\": 8039,\n",
       "    \"missing_count\": 2500,\n",
       "    \"missing_percent\": 31.09839532280134,\n",
       "    \"unexpected_count\": 0,\n",
       "    \"unexpected_percent\": 0.0,\n",
       "    \"unexpected_percent_total\": 0.0,\n",
       "    \"unexpected_percent_nonmissing\": 0.0,\n",
       "    \"partial_unexpected_list\": []\n",
       "  },\n",
       "  \"success\": true,\n",
       "  \"exception_info\": {\n",
       "    \"raised_exception\": false,\n",
       "    \"exception_traceback\": null,\n",
       "    \"exception_message\": null\n",
       "  }\n",
       "}"
      ]
     },
     "execution_count": 22,
     "metadata": {},
     "output_type": "execute_result"
    }
   ],
   "source": [
    "my_df.expect_column_values_to_be_in_set(\"TIPO_GRAVIDEZ\",['ESPONTANEA', 'FIV', 'INSEMINACAO', 'TEC', 'ESTIMULACAO','ICSI'])"
   ]
  },
  {
   "cell_type": "code",
   "execution_count": 23,
   "id": "b5bce810-c02c-4cc4-a675-a5d827787982",
   "metadata": {
    "execution": {
     "iopub.execute_input": "2022-08-24T12:06:43.279588Z",
     "iopub.status.busy": "2022-08-24T12:06:43.279519Z",
     "iopub.status.idle": "2022-08-24T12:06:43.283312Z",
     "shell.execute_reply": "2022-08-24T12:06:43.283031Z",
     "shell.execute_reply.started": "2022-08-24T12:06:43.279578Z"
    },
    "tags": []
   },
   "outputs": [],
   "source": [
    "my_df.save_expectation_suite(\"my_expectation_file.json\",discard_failed_expectations=False)"
   ]
  },
  {
   "cell_type": "code",
   "execution_count": 24,
   "id": "6a2e5ccf-7322-4fd8-af42-9b9e8b2e5e68",
   "metadata": {
    "execution": {
     "iopub.execute_input": "2022-08-24T12:06:43.283874Z",
     "iopub.status.busy": "2022-08-24T12:06:43.283766Z",
     "iopub.status.idle": "2022-08-24T12:06:43.286920Z",
     "shell.execute_reply": "2022-08-24T12:06:43.286657Z",
     "shell.execute_reply.started": "2022-08-24T12:06:43.283863Z"
    },
    "tags": []
   },
   "outputs": [],
   "source": [
    "import json \n",
    "import great_expectations as ge\n",
    "\n",
    "my_expectation_suite = json.load(open(\"my_expectation_file.json\"))\n",
    "my_df = ge.from_pandas(\n",
    "  silo1, \n",
    "  expectation_suite=my_expectation_suite\n",
    ")\n"
   ]
  },
  {
   "cell_type": "code",
   "execution_count": 25,
   "id": "cb34c1e5-1463-4620-82ff-a2649d7aa5ce",
   "metadata": {
    "execution": {
     "iopub.execute_input": "2022-08-24T12:06:43.287479Z",
     "iopub.status.busy": "2022-08-24T12:06:43.287413Z",
     "iopub.status.idle": "2022-08-24T12:06:43.357083Z",
     "shell.execute_reply": "2022-08-24T12:06:43.356798Z",
     "shell.execute_reply.started": "2022-08-24T12:06:43.287470Z"
    },
    "tags": []
   },
   "outputs": [],
   "source": [
    "result=my_df.validate()"
   ]
  },
  {
   "cell_type": "code",
   "execution_count": 26,
   "id": "80c26d7e-6404-4de7-a69f-b3432f2b55c5",
   "metadata": {
    "execution": {
     "iopub.execute_input": "2022-08-24T12:06:43.357682Z",
     "iopub.status.busy": "2022-08-24T12:06:43.357612Z",
     "iopub.status.idle": "2022-08-24T12:06:43.361565Z",
     "shell.execute_reply": "2022-08-24T12:06:43.361242Z",
     "shell.execute_reply.started": "2022-08-24T12:06:43.357673Z"
    },
    "tags": []
   },
   "outputs": [],
   "source": [
    "def parse_ge_result(re):\n",
    "    res_dict={\"expectation_type\":[],\"cols\":[],\"unexpected_count\":[],\"missing_percent\":[],\"missing_count\":[],\"unexpected_percent\":[],\"unexpected_percent_total\":[],\"unexpected_percent_nonmissing\":[],\"success\":[]}\n",
    "    rr=re.to_json_dict()\n",
    "    for c in rr[\"results\"]:\n",
    "        exp_type=c[\"expectation_config\"][\"expectation_type\"]\n",
    "\n",
    "        res_dict[\"expectation_type\"].append(exp_type)\n",
    "        if \"pair\"  in exp_type:\n",
    "            cols=[c[\"expectation_config\"][\"kwargs\"].get(\"column_A\"),c[\"expectation_config\"][\"kwargs\"].get(\"column_B\")]\n",
    "        else:\n",
    "            cols=[c[\"expectation_config\"][\"kwargs\"].get(\"column\")]\n",
    "        res_dict[\"cols\"].append(\",\".join(cols))\n",
    "      #  print(exp_type,\",\".join(cols))\n",
    "        res=c[\"result\"]\n",
    "      #  print(res)\n",
    "        res_dict[\"unexpected_count\"].append(res.get(\"unexpected_count\"))\n",
    "        res_dict[\"missing_percent\"].append(res.get(\"missing_percent\"))\n",
    "        res_dict[\"missing_count\"].append(res.get(\"missing_count\"))\n",
    "        res_dict[\"unexpected_percent\"].append(res.get(\"unexpected_percent\"))\n",
    "        res_dict[\"unexpected_percent_total\"].append(res.get(\"unexpected_percent_total\"))\n",
    "        res_dict[\"unexpected_percent_nonmissing\"].append(res.get(\"unexpected_percent_nonmissing\"))\n",
    "        res_dict[\"success\"].append(c[\"success\"])\n",
    "    results_df=pd.DataFrame.from_dict(res_dict)\n",
    "    return results_df\n"
   ]
  },
  {
   "cell_type": "code",
   "execution_count": 27,
   "id": "950253cb-c610-4e8b-8050-86919f9d525a",
   "metadata": {
    "execution": {
     "iopub.execute_input": "2022-08-24T12:06:43.362116Z",
     "iopub.status.busy": "2022-08-24T12:06:43.362045Z",
     "iopub.status.idle": "2022-08-24T12:06:43.367944Z",
     "shell.execute_reply": "2022-08-24T12:06:43.367670Z",
     "shell.execute_reply.started": "2022-08-24T12:06:43.362108Z"
    },
    "tags": []
   },
   "outputs": [],
   "source": [
    "tt=parse_ge_result(result)"
   ]
  },
  {
   "cell_type": "code",
   "execution_count": null,
   "id": "5072f485-07ba-4071-8a7a-d654fea953e1",
   "metadata": {},
   "outputs": [],
   "source": []
  },
  {
   "cell_type": "code",
   "execution_count": 28,
   "id": "dba7288e-d5fe-489c-b44c-54940471106c",
   "metadata": {
    "execution": {
     "iopub.execute_input": "2022-08-24T12:06:43.368411Z",
     "iopub.status.busy": "2022-08-24T12:06:43.368345Z",
     "iopub.status.idle": "2022-08-24T12:06:43.370288Z",
     "shell.execute_reply": "2022-08-24T12:06:43.370009Z",
     "shell.execute_reply.started": "2022-08-24T12:06:43.368402Z"
    },
    "tags": []
   },
   "outputs": [],
   "source": [
    "dd_dict={}"
   ]
  },
  {
   "cell_type": "code",
   "execution_count": 29,
   "id": "cf35ca67-ad10-4109-b6d3-b336f6bc721c",
   "metadata": {
    "execution": {
     "iopub.execute_input": "2022-08-24T12:06:43.370825Z",
     "iopub.status.busy": "2022-08-24T12:06:43.370752Z",
     "iopub.status.idle": "2022-08-24T12:06:43.374718Z",
     "shell.execute_reply": "2022-08-24T12:06:43.374446Z",
     "shell.execute_reply.started": "2022-08-24T12:06:43.370816Z"
    },
    "tags": []
   },
   "outputs": [
    {
     "name": "stdout",
     "output_type": "stream",
     "text": [
      "9 expectation_type                 expect_column_values_to_be_between\n",
      "cols                                         SEMANAS_GESTACAO_PARTO\n",
      "unexpected_count                                                 18\n",
      "missing_percent                                            0.012439\n",
      "missing_count                                                     1\n",
      "unexpected_percent                                         0.223936\n",
      "unexpected_percent_total                                   0.223908\n",
      "unexpected_percent_nonmissing                              0.223936\n",
      "success                                                       False\n",
      "Name: 9, dtype: object\n",
      "10 expectation_type                 expect_column_values_to_be_between\n",
      "cols                                                   PESO_INICIAL\n",
      "unexpected_count                                                 29\n",
      "missing_percent                                            6.916283\n",
      "missing_count                                                   556\n",
      "unexpected_percent                                         0.387545\n",
      "unexpected_percent_total                                   0.360741\n",
      "unexpected_percent_nonmissing                              0.387545\n",
      "success                                                       False\n",
      "Name: 10, dtype: object\n",
      "11 expectation_type                 expect_column_values_to_be_between\n",
      "cols                                     PESO_ADMISSAO_INTERNAMENTO\n",
      "unexpected_count                                                  3\n",
      "missing_percent                                           96.628934\n",
      "missing_count                                                  7768\n",
      "unexpected_percent                                         1.107011\n",
      "unexpected_percent_total                                   0.037318\n",
      "unexpected_percent_nonmissing                              1.107011\n",
      "success                                                       False\n",
      "Name: 11, dtype: object\n",
      "12 expectation_type                 expect_column_values_to_be_between\n",
      "cols                                                            IMC\n",
      "unexpected_count                                                 11\n",
      "missing_percent                                            7.451176\n",
      "missing_count                                                   599\n",
      "unexpected_percent                                         0.147849\n",
      "unexpected_percent_total                                   0.136833\n",
      "unexpected_percent_nonmissing                              0.147849\n",
      "success                                                       False\n",
      "Name: 12, dtype: object\n"
     ]
    }
   ],
   "source": [
    "for idx,row in tt[tt[\"success\"]==False].iterrows():\n",
    "    dd_dict[row[\"cols\"]]={\"count\":row[\"unexpected_count\"],\"rule\":row[\"expectation_type\"],\"percentage\":round(row[\"unexpected_percent\"],2)}\n",
    "    print(idx,row)"
   ]
  },
  {
   "cell_type": "code",
   "execution_count": 30,
   "id": "e28d1600-d794-47fd-8c5c-5336b4081928",
   "metadata": {
    "execution": {
     "iopub.execute_input": "2022-08-24T12:06:43.375215Z",
     "iopub.status.busy": "2022-08-24T12:06:43.375152Z",
     "iopub.status.idle": "2022-08-24T12:06:43.377888Z",
     "shell.execute_reply": "2022-08-24T12:06:43.377634Z",
     "shell.execute_reply.started": "2022-08-24T12:06:43.375206Z"
    },
    "tags": []
   },
   "outputs": [
    {
     "data": {
      "text/plain": [
       "{'SEMANAS_GESTACAO_PARTO': {'count': 18,\n",
       "  'rule': 'expect_column_values_to_be_between',\n",
       "  'percentage': 0.22},\n",
       " 'PESO_INICIAL': {'count': 29,\n",
       "  'rule': 'expect_column_values_to_be_between',\n",
       "  'percentage': 0.39},\n",
       " 'PESO_ADMISSAO_INTERNAMENTO': {'count': 3,\n",
       "  'rule': 'expect_column_values_to_be_between',\n",
       "  'percentage': 1.11},\n",
       " 'IMC': {'count': 11,\n",
       "  'rule': 'expect_column_values_to_be_between',\n",
       "  'percentage': 0.15}}"
      ]
     },
     "execution_count": 30,
     "metadata": {},
     "output_type": "execute_result"
    }
   ],
   "source": [
    "dd_dict"
   ]
  },
  {
   "cell_type": "code",
   "execution_count": 31,
   "id": "cebcbe70-343b-4a73-b378-01468f87a5e8",
   "metadata": {
    "execution": {
     "iopub.execute_input": "2022-08-24T12:06:43.378581Z",
     "iopub.status.busy": "2022-08-24T12:06:43.378500Z",
     "iopub.status.idle": "2022-08-24T12:06:43.383494Z",
     "shell.execute_reply": "2022-08-24T12:06:43.383223Z",
     "shell.execute_reply.started": "2022-08-24T12:06:43.378572Z"
    }
   },
   "outputs": [],
   "source": [
    "t1={'IDADE_MATERNA': 0, 'PESO_INICIAL': 0, 'IMC': 0, 'NUMERO_CONSULTAS_PRE_NATAL': 0, 'IDADE_GESTACIONAL_ADMISSAO': 0, 'SEMANAS_GESTACAO_PARTO': 1, 'ESTIMATIVA_PESO_ECO_30': 0}\n",
    "t2={'IDENTIFICADOR': 100, 'DATA_PARTO': 100, 'PESO_ADMISSAO_INTERNAMENTO': 3, 'CIGARROS': 16, 'ALCOOL': 1, 'ESTUPEFACIENTES': 0, 'EUTOCITO_ANTERIOR': 27, 'VENTOSAS_ANTERIOR': 10, 'FORCEPS_ANTERIOR': 1, 'CESARIANAS_ANTERIOR': 11, 'CESARIANAS_MOTIVO_ANTERIOR': 0, 'VIGIADA_HOSPITAL': 4, 'VIGIADA_PARICULAR': 15, 'VIGIADA_CENTRO_SAUDE': 66, 'ESTIMATIVA_PESO_ECO_24': 3, 'ESTIMATIVA_PESO_ECO_25': 2, 'ESTIMATIVA_PESO_ECO_26': 2, 'ESTIMATIVA_PESO_ECO_27': 2, 'ESTIMATIVA_PESO_ECO_28': 9, 'ESTIMATIVA_PESO_ECO_29': 5, 'ESTIMATIVA_PESO_ECO_30': 24, 'ESTIMATIVA_PESO_ECO_31': 18, 'ESTIMATIVA_PESO_ECO_32': 10, 'ESTIMATIVA_PESO_ECO_33': 7, 'ESTIMATIVA_PESO_ECO_34': 9, 'ESTIMATIVA_PESO_ECO_35': 11, 'ESTIMATIVA_PESO_ECO_36': 13, 'ESTIMATIVA_PESO_ECO_37': 9, 'ESTIMATIVA_PESO_ECO_38': 6, 'ESTIMATIVA_PESO_ECO_39': 2, 'ESTIMATIVA_PESO_ECO_40': 0, 'ESTIMATIVA_PESO_ECO_41': 0, 'ESTIMATIVA_PESO_ECO_42': 0, 'APRESENTACAO_42': 0, 'APRESENTACAO_41': 0, 'APRESENTACAO_40': 0, 'APRESENTACAO_39': 2, 'APRESENTACAO_38': 6, 'APRESENTACAO_37': 10, 'APRESENTACAO_36': 14, 'APRESENTACAO_35': 12, 'APRESENTACAO_34': 9, 'APRESENTACAO_33': 7, 'APRESENTACAO_32': 10, 'APRESENTACAO_31': 19, 'APRESENTACAO_30': 24, 'APRESENTACAO_29': 5, 'APRESENTACAO_28': 9, 'APRESENTACAO_27': 3, 'APRESENTACAO_26': 2, 'APRESENTACAO_25': 2, 'APRESENTACAO_24': 3, 'G_TERAPEUTICA': 84, 'NUM_RN': 100, 'E_ALT_UT': 0, 'BACIA': 5, 'APRESENTACAO_ADMISSAO': 13, 'BISHOP_SCORE': 2, 'BISHOP_CONSISTENCIA': 2, 'BISHOP_DESCIDA': 1, 'BISHOP_DILATACAO': 2, 'BISHOP_EXTINCAO': 2, 'BISHOP_POSICAO': 2, 'TRAB_PARTO_ENTRADA_INDUZIDO': 2, 'RPM': 10, 'HIPERTENSAO_CRONICA': 3, 'HIPERTENSAO_GESTACIONAL': 1, 'HIPERTENSAO_PRE_ECLAMPSIA': 2, 'DIABETES_GESTACIONAL': 13, 'DIABETES_GESTACIONAL_DIETA': 9, 'DIABETES_GESTACIONAL_INSULINA': 1, 'DIABETES_GESTACIONAL_ANTIBIO': 2, 'DIABETES_MATERNA': 1, 'DIABETES_TIPO1': 0, 'DIABETES_TIPO2': 0, 'HEMATOLOGICA': 5, 'RESPIRATORIA': 6, 'CEREBRAL': 1, 'CARDIACA': 7}\n",
    "t3={'IDADE_MATERNA': 0.8905237176389932, 'PESO_INICIAL': 0, 'IMC': 0, 'A_PARA': 0, 'A_GESTA': 0, 'EUTOCITO_ANTERIOR': 0, 'TIPO_GRAVIDEZ': 0, 'VIGIADA': 0, 'NUMERO_CONSULTAS_PRE_NATAL': 0.7737978088302828, 'VIGIADA_CENTRO_SAUDE': 0.7871883909592701, 'VIGIADA_NESTE_HOSPITAL': 0, 'ESTIMATIVA_PESO_ECO_30': 0, 'APRESENTACAO_30': 0, 'APRESENTACAO_ADMISSAO': 0, 'IDADE_GESTACIONAL_ADMISSAO': 0, 'TRAB_PARTO_ENTRADA_ESPONTANEO': 0, 'TIPO_PARTO': 0, 'APRESENTACAO_NO_PARTO': 0, 'TRAB_PARTO_NO_PARTO': 0, 'SEMANAS_GESTACAO_PARTO': 0, 'GRUPO_ROBSON': 0}\n",
    "t4={}"
   ]
  },
  {
   "cell_type": "code",
   "execution_count": 32,
   "id": "9098c517-1b09-4c5e-95f0-79f6bb638d6c",
   "metadata": {
    "execution": {
     "iopub.execute_input": "2022-08-24T12:06:43.384078Z",
     "iopub.status.busy": "2022-08-24T12:06:43.384007Z",
     "iopub.status.idle": "2022-08-24T12:06:43.388362Z",
     "shell.execute_reply": "2022-08-24T12:06:43.388068Z",
     "shell.execute_reply.started": "2022-08-24T12:06:43.384069Z"
    },
    "tags": []
   },
   "outputs": [],
   "source": [
    "df1=pd.DataFrame(t1,index=[0])\n",
    "df2=pd.DataFrame(t2,index=[0])\n",
    "df3=pd.DataFrame(t3,index=[0])\n",
    "df4=pd.DataFrame(t4,index=[0])"
   ]
  },
  {
   "cell_type": "code",
   "execution_count": 33,
   "id": "9decb592-1a79-46bf-be34-7e50b9835885",
   "metadata": {
    "execution": {
     "iopub.execute_input": "2022-08-24T12:06:43.388939Z",
     "iopub.status.busy": "2022-08-24T12:06:43.388833Z",
     "iopub.status.idle": "2022-08-24T12:06:43.393721Z",
     "shell.execute_reply": "2022-08-24T12:06:43.393512Z",
     "shell.execute_reply.started": "2022-08-24T12:06:43.388930Z"
    }
   },
   "outputs": [
    {
     "data": {
      "text/html": [
       "<div>\n",
       "<style scoped>\n",
       "    .dataframe tbody tr th:only-of-type {\n",
       "        vertical-align: middle;\n",
       "    }\n",
       "\n",
       "    .dataframe tbody tr th {\n",
       "        vertical-align: top;\n",
       "    }\n",
       "\n",
       "    .dataframe thead th {\n",
       "        text-align: right;\n",
       "    }\n",
       "</style>\n",
       "<table border=\"1\" class=\"dataframe\">\n",
       "  <thead>\n",
       "    <tr style=\"text-align: right;\">\n",
       "      <th></th>\n",
       "      <th>IDADE_MATERNA</th>\n",
       "      <th>PESO_INICIAL</th>\n",
       "      <th>IMC</th>\n",
       "      <th>NUMERO_CONSULTAS_PRE_NATAL</th>\n",
       "      <th>IDADE_GESTACIONAL_ADMISSAO</th>\n",
       "      <th>SEMANAS_GESTACAO_PARTO</th>\n",
       "      <th>ESTIMATIVA_PESO_ECO_30</th>\n",
       "    </tr>\n",
       "  </thead>\n",
       "  <tbody>\n",
       "    <tr>\n",
       "      <th>0</th>\n",
       "      <td>0</td>\n",
       "      <td>0</td>\n",
       "      <td>0</td>\n",
       "      <td>0</td>\n",
       "      <td>0</td>\n",
       "      <td>1</td>\n",
       "      <td>0</td>\n",
       "    </tr>\n",
       "  </tbody>\n",
       "</table>\n",
       "</div>"
      ],
      "text/plain": [
       "   IDADE_MATERNA  PESO_INICIAL  IMC  NUMERO_CONSULTAS_PRE_NATAL  \\\n",
       "0              0             0    0                           0   \n",
       "\n",
       "   IDADE_GESTACIONAL_ADMISSAO  SEMANAS_GESTACAO_PARTO  ESTIMATIVA_PESO_ECO_30  \n",
       "0                           0                       1                       0  "
      ]
     },
     "execution_count": 33,
     "metadata": {},
     "output_type": "execute_result"
    }
   ],
   "source": [
    "df1"
   ]
  },
  {
   "cell_type": "code",
   "execution_count": 34,
   "id": "1a74dcc7-f551-48ea-8cb6-6111a0fdbddc",
   "metadata": {
    "execution": {
     "iopub.execute_input": "2022-08-24T12:06:43.394185Z",
     "iopub.status.busy": "2022-08-24T12:06:43.394125Z",
     "iopub.status.idle": "2022-08-24T12:06:43.399603Z",
     "shell.execute_reply": "2022-08-24T12:06:43.399346Z",
     "shell.execute_reply.started": "2022-08-24T12:06:43.394177Z"
    }
   },
   "outputs": [
    {
     "data": {
      "text/html": [
       "<div>\n",
       "<style scoped>\n",
       "    .dataframe tbody tr th:only-of-type {\n",
       "        vertical-align: middle;\n",
       "    }\n",
       "\n",
       "    .dataframe tbody tr th {\n",
       "        vertical-align: top;\n",
       "    }\n",
       "\n",
       "    .dataframe thead th {\n",
       "        text-align: right;\n",
       "    }\n",
       "</style>\n",
       "<table border=\"1\" class=\"dataframe\">\n",
       "  <thead>\n",
       "    <tr style=\"text-align: right;\">\n",
       "      <th></th>\n",
       "      <th>IDENTIFICADOR</th>\n",
       "      <th>DATA_PARTO</th>\n",
       "      <th>PESO_ADMISSAO_INTERNAMENTO</th>\n",
       "      <th>CIGARROS</th>\n",
       "      <th>ALCOOL</th>\n",
       "      <th>ESTUPEFACIENTES</th>\n",
       "      <th>EUTOCITO_ANTERIOR</th>\n",
       "      <th>VENTOSAS_ANTERIOR</th>\n",
       "      <th>FORCEPS_ANTERIOR</th>\n",
       "      <th>CESARIANAS_ANTERIOR</th>\n",
       "      <th>...</th>\n",
       "      <th>DIABETES_GESTACIONAL_DIETA</th>\n",
       "      <th>DIABETES_GESTACIONAL_INSULINA</th>\n",
       "      <th>DIABETES_GESTACIONAL_ANTIBIO</th>\n",
       "      <th>DIABETES_MATERNA</th>\n",
       "      <th>DIABETES_TIPO1</th>\n",
       "      <th>DIABETES_TIPO2</th>\n",
       "      <th>HEMATOLOGICA</th>\n",
       "      <th>RESPIRATORIA</th>\n",
       "      <th>CEREBRAL</th>\n",
       "      <th>CARDIACA</th>\n",
       "    </tr>\n",
       "  </thead>\n",
       "  <tbody>\n",
       "    <tr>\n",
       "      <th>0</th>\n",
       "      <td>100</td>\n",
       "      <td>100</td>\n",
       "      <td>3</td>\n",
       "      <td>16</td>\n",
       "      <td>1</td>\n",
       "      <td>0</td>\n",
       "      <td>27</td>\n",
       "      <td>10</td>\n",
       "      <td>1</td>\n",
       "      <td>11</td>\n",
       "      <td>...</td>\n",
       "      <td>9</td>\n",
       "      <td>1</td>\n",
       "      <td>2</td>\n",
       "      <td>1</td>\n",
       "      <td>0</td>\n",
       "      <td>0</td>\n",
       "      <td>5</td>\n",
       "      <td>6</td>\n",
       "      <td>1</td>\n",
       "      <td>7</td>\n",
       "    </tr>\n",
       "  </tbody>\n",
       "</table>\n",
       "<p>1 rows × 79 columns</p>\n",
       "</div>"
      ],
      "text/plain": [
       "   IDENTIFICADOR  DATA_PARTO  PESO_ADMISSAO_INTERNAMENTO  CIGARROS  ALCOOL  \\\n",
       "0            100         100                           3        16       1   \n",
       "\n",
       "   ESTUPEFACIENTES  EUTOCITO_ANTERIOR  VENTOSAS_ANTERIOR  FORCEPS_ANTERIOR  \\\n",
       "0                0                 27                 10                 1   \n",
       "\n",
       "   CESARIANAS_ANTERIOR  ...  DIABETES_GESTACIONAL_DIETA  \\\n",
       "0                   11  ...                           9   \n",
       "\n",
       "   DIABETES_GESTACIONAL_INSULINA  DIABETES_GESTACIONAL_ANTIBIO  \\\n",
       "0                              1                             2   \n",
       "\n",
       "   DIABETES_MATERNA  DIABETES_TIPO1  DIABETES_TIPO2  HEMATOLOGICA  \\\n",
       "0                 1               0               0             5   \n",
       "\n",
       "   RESPIRATORIA  CEREBRAL  CARDIACA  \n",
       "0             6         1         7  \n",
       "\n",
       "[1 rows x 79 columns]"
      ]
     },
     "execution_count": 34,
     "metadata": {},
     "output_type": "execute_result"
    }
   ],
   "source": [
    "df2"
   ]
  },
  {
   "cell_type": "code",
   "execution_count": 35,
   "id": "9fe1caab-8f2f-44e7-8adf-2326d5d86daa",
   "metadata": {
    "execution": {
     "iopub.execute_input": "2022-08-24T12:06:43.400106Z",
     "iopub.status.busy": "2022-08-24T12:06:43.400046Z",
     "iopub.status.idle": "2022-08-24T12:06:43.406183Z",
     "shell.execute_reply": "2022-08-24T12:06:43.405898Z",
     "shell.execute_reply.started": "2022-08-24T12:06:43.400097Z"
    },
    "tags": []
   },
   "outputs": [],
   "source": [
    "result = pd.concat([df1,df2,df3,df4])\n"
   ]
  },
  {
   "cell_type": "code",
   "execution_count": 36,
   "id": "f7a9783f-4960-4df7-8cc1-9f85694a4da9",
   "metadata": {
    "execution": {
     "iopub.execute_input": "2022-08-24T12:06:43.406829Z",
     "iopub.status.busy": "2022-08-24T12:06:43.406694Z",
     "iopub.status.idle": "2022-08-24T12:06:43.408717Z",
     "shell.execute_reply": "2022-08-24T12:06:43.408312Z",
     "shell.execute_reply.started": "2022-08-24T12:06:43.406819Z"
    },
    "tags": []
   },
   "outputs": [],
   "source": [
    "result.index=[\"missing\",\"correctness\",\"iqr\",\"exP\"]"
   ]
  },
  {
   "cell_type": "code",
   "execution_count": 37,
   "id": "611b690c-128d-408f-be56-b3857a2bf817",
   "metadata": {
    "execution": {
     "iopub.execute_input": "2022-08-24T12:06:43.409310Z",
     "iopub.status.busy": "2022-08-24T12:06:43.409237Z",
     "iopub.status.idle": "2022-08-24T12:06:43.419591Z",
     "shell.execute_reply": "2022-08-24T12:06:43.419339Z",
     "shell.execute_reply.started": "2022-08-24T12:06:43.409302Z"
    }
   },
   "outputs": [
    {
     "data": {
      "text/html": [
       "<div>\n",
       "<style scoped>\n",
       "    .dataframe tbody tr th:only-of-type {\n",
       "        vertical-align: middle;\n",
       "    }\n",
       "\n",
       "    .dataframe tbody tr th {\n",
       "        vertical-align: top;\n",
       "    }\n",
       "\n",
       "    .dataframe thead th {\n",
       "        text-align: right;\n",
       "    }\n",
       "</style>\n",
       "<table border=\"1\" class=\"dataframe\">\n",
       "  <thead>\n",
       "    <tr style=\"text-align: right;\">\n",
       "      <th></th>\n",
       "      <th>IDADE_MATERNA</th>\n",
       "      <th>PESO_INICIAL</th>\n",
       "      <th>IMC</th>\n",
       "      <th>NUMERO_CONSULTAS_PRE_NATAL</th>\n",
       "      <th>IDADE_GESTACIONAL_ADMISSAO</th>\n",
       "      <th>SEMANAS_GESTACAO_PARTO</th>\n",
       "      <th>ESTIMATIVA_PESO_ECO_30</th>\n",
       "      <th>IDENTIFICADOR</th>\n",
       "      <th>DATA_PARTO</th>\n",
       "      <th>PESO_ADMISSAO_INTERNAMENTO</th>\n",
       "      <th>...</th>\n",
       "      <th>A_PARA</th>\n",
       "      <th>A_GESTA</th>\n",
       "      <th>TIPO_GRAVIDEZ</th>\n",
       "      <th>VIGIADA</th>\n",
       "      <th>VIGIADA_NESTE_HOSPITAL</th>\n",
       "      <th>TRAB_PARTO_ENTRADA_ESPONTANEO</th>\n",
       "      <th>TIPO_PARTO</th>\n",
       "      <th>APRESENTACAO_NO_PARTO</th>\n",
       "      <th>TRAB_PARTO_NO_PARTO</th>\n",
       "      <th>GRUPO_ROBSON</th>\n",
       "    </tr>\n",
       "  </thead>\n",
       "  <tbody>\n",
       "    <tr>\n",
       "      <th>missing</th>\n",
       "      <td>0.000000</td>\n",
       "      <td>0.0</td>\n",
       "      <td>0.0</td>\n",
       "      <td>0.000000</td>\n",
       "      <td>0.0</td>\n",
       "      <td>1.0</td>\n",
       "      <td>0.0</td>\n",
       "      <td>NaN</td>\n",
       "      <td>NaN</td>\n",
       "      <td>NaN</td>\n",
       "      <td>...</td>\n",
       "      <td>NaN</td>\n",
       "      <td>NaN</td>\n",
       "      <td>NaN</td>\n",
       "      <td>NaN</td>\n",
       "      <td>NaN</td>\n",
       "      <td>NaN</td>\n",
       "      <td>NaN</td>\n",
       "      <td>NaN</td>\n",
       "      <td>NaN</td>\n",
       "      <td>NaN</td>\n",
       "    </tr>\n",
       "    <tr>\n",
       "      <th>correctness</th>\n",
       "      <td>NaN</td>\n",
       "      <td>NaN</td>\n",
       "      <td>NaN</td>\n",
       "      <td>NaN</td>\n",
       "      <td>NaN</td>\n",
       "      <td>NaN</td>\n",
       "      <td>24.0</td>\n",
       "      <td>100.0</td>\n",
       "      <td>100.0</td>\n",
       "      <td>3.0</td>\n",
       "      <td>...</td>\n",
       "      <td>NaN</td>\n",
       "      <td>NaN</td>\n",
       "      <td>NaN</td>\n",
       "      <td>NaN</td>\n",
       "      <td>NaN</td>\n",
       "      <td>NaN</td>\n",
       "      <td>NaN</td>\n",
       "      <td>NaN</td>\n",
       "      <td>NaN</td>\n",
       "      <td>NaN</td>\n",
       "    </tr>\n",
       "    <tr>\n",
       "      <th>iqr</th>\n",
       "      <td>0.890524</td>\n",
       "      <td>0.0</td>\n",
       "      <td>0.0</td>\n",
       "      <td>0.773798</td>\n",
       "      <td>0.0</td>\n",
       "      <td>0.0</td>\n",
       "      <td>0.0</td>\n",
       "      <td>NaN</td>\n",
       "      <td>NaN</td>\n",
       "      <td>NaN</td>\n",
       "      <td>...</td>\n",
       "      <td>0.0</td>\n",
       "      <td>0.0</td>\n",
       "      <td>0.0</td>\n",
       "      <td>0.0</td>\n",
       "      <td>0.0</td>\n",
       "      <td>0.0</td>\n",
       "      <td>0.0</td>\n",
       "      <td>0.0</td>\n",
       "      <td>0.0</td>\n",
       "      <td>0.0</td>\n",
       "    </tr>\n",
       "    <tr>\n",
       "      <th>exP</th>\n",
       "      <td>NaN</td>\n",
       "      <td>NaN</td>\n",
       "      <td>NaN</td>\n",
       "      <td>NaN</td>\n",
       "      <td>NaN</td>\n",
       "      <td>NaN</td>\n",
       "      <td>NaN</td>\n",
       "      <td>NaN</td>\n",
       "      <td>NaN</td>\n",
       "      <td>NaN</td>\n",
       "      <td>...</td>\n",
       "      <td>NaN</td>\n",
       "      <td>NaN</td>\n",
       "      <td>NaN</td>\n",
       "      <td>NaN</td>\n",
       "      <td>NaN</td>\n",
       "      <td>NaN</td>\n",
       "      <td>NaN</td>\n",
       "      <td>NaN</td>\n",
       "      <td>NaN</td>\n",
       "      <td>NaN</td>\n",
       "    </tr>\n",
       "  </tbody>\n",
       "</table>\n",
       "<p>4 rows × 95 columns</p>\n",
       "</div>"
      ],
      "text/plain": [
       "             IDADE_MATERNA  PESO_INICIAL  IMC  NUMERO_CONSULTAS_PRE_NATAL  \\\n",
       "missing           0.000000           0.0  0.0                    0.000000   \n",
       "correctness            NaN           NaN  NaN                         NaN   \n",
       "iqr               0.890524           0.0  0.0                    0.773798   \n",
       "exP                    NaN           NaN  NaN                         NaN   \n",
       "\n",
       "             IDADE_GESTACIONAL_ADMISSAO  SEMANAS_GESTACAO_PARTO  \\\n",
       "missing                             0.0                     1.0   \n",
       "correctness                         NaN                     NaN   \n",
       "iqr                                 0.0                     0.0   \n",
       "exP                                 NaN                     NaN   \n",
       "\n",
       "             ESTIMATIVA_PESO_ECO_30  IDENTIFICADOR  DATA_PARTO  \\\n",
       "missing                         0.0            NaN         NaN   \n",
       "correctness                    24.0          100.0       100.0   \n",
       "iqr                             0.0            NaN         NaN   \n",
       "exP                             NaN            NaN         NaN   \n",
       "\n",
       "             PESO_ADMISSAO_INTERNAMENTO  ...  A_PARA  A_GESTA  TIPO_GRAVIDEZ  \\\n",
       "missing                             NaN  ...     NaN      NaN            NaN   \n",
       "correctness                         3.0  ...     NaN      NaN            NaN   \n",
       "iqr                                 NaN  ...     0.0      0.0            0.0   \n",
       "exP                                 NaN  ...     NaN      NaN            NaN   \n",
       "\n",
       "             VIGIADA  VIGIADA_NESTE_HOSPITAL  TRAB_PARTO_ENTRADA_ESPONTANEO  \\\n",
       "missing          NaN                     NaN                            NaN   \n",
       "correctness      NaN                     NaN                            NaN   \n",
       "iqr              0.0                     0.0                            0.0   \n",
       "exP              NaN                     NaN                            NaN   \n",
       "\n",
       "             TIPO_PARTO  APRESENTACAO_NO_PARTO  TRAB_PARTO_NO_PARTO  \\\n",
       "missing             NaN                    NaN                  NaN   \n",
       "correctness         NaN                    NaN                  NaN   \n",
       "iqr                 0.0                    0.0                  0.0   \n",
       "exP                 NaN                    NaN                  NaN   \n",
       "\n",
       "             GRUPO_ROBSON  \n",
       "missing               NaN  \n",
       "correctness           NaN  \n",
       "iqr                   0.0  \n",
       "exP                   NaN  \n",
       "\n",
       "[4 rows x 95 columns]"
      ]
     },
     "execution_count": 37,
     "metadata": {},
     "output_type": "execute_result"
    }
   ],
   "source": [
    "result"
   ]
  },
  {
   "cell_type": "code",
   "execution_count": null,
   "id": "1fffac41-e9f4-4fd1-8a9c-b4fcce1ad4e5",
   "metadata": {},
   "outputs": [],
   "source": []
  }
 ],
 "metadata": {
  "kernelspec": {
   "display_name": "Python (py3)",
   "language": "python",
   "name": "py3"
  },
  "language_info": {
   "codemirror_mode": {
    "name": "ipython",
    "version": 3
   },
   "file_extension": ".py",
   "mimetype": "text/x-python",
   "name": "python",
   "nbconvert_exporter": "python",
   "pygments_lexer": "ipython3",
   "version": "3.9.10"
  }
 },
 "nbformat": 4,
 "nbformat_minor": 5
}
