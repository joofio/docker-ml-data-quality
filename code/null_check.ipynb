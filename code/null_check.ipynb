{
 "cells": [
  {
   "cell_type": "markdown",
   "id": "0f3ceba5-f99a-413b-beaf-11892387a379",
   "metadata": {
    "execution": {
     "iopub.execute_input": "2022-07-28T15:31:31.380769Z",
     "iopub.status.busy": "2022-07-28T15:31:31.380603Z",
     "iopub.status.idle": "2022-07-28T15:31:31.382573Z",
     "shell.execute_reply": "2022-07-28T15:31:31.382272Z",
     "shell.execute_reply.started": "2022-07-28T15:31:31.380730Z"
    }
   },
   "source": [
    "# Assesing Stats\n",
    "1. Nulls\n",
    "2. IQR\n",
    "3. ..."
   ]
  },
  {
   "cell_type": "code",
   "execution_count": 58,
   "id": "9c5ae808-d597-45ab-aa6e-73ceb4bde8b9",
   "metadata": {
    "execution": {
     "iopub.execute_input": "2022-07-29T15:07:08.719076Z",
     "iopub.status.busy": "2022-07-29T15:07:08.718548Z",
     "iopub.status.idle": "2022-07-29T15:07:08.724847Z",
     "shell.execute_reply": "2022-07-29T15:07:08.724034Z",
     "shell.execute_reply.started": "2022-07-29T15:07:08.719032Z"
    },
    "tags": []
   },
   "outputs": [],
   "source": [
    "import pandas as pd\n",
    "import numpy as np\n",
    "import json"
   ]
  },
  {
   "cell_type": "code",
   "execution_count": 40,
   "id": "44bffff7-79dd-4665-a3cf-1913a02cc19a",
   "metadata": {
    "execution": {
     "iopub.execute_input": "2022-07-29T15:04:47.075428Z",
     "iopub.status.busy": "2022-07-29T15:04:47.074778Z",
     "iopub.status.idle": "2022-07-29T15:04:47.083584Z",
     "shell.execute_reply": "2022-07-29T15:04:47.083230Z",
     "shell.execute_reply.started": "2022-07-29T15:04:47.075398Z"
    }
   },
   "outputs": [],
   "source": [
    "ord_cols=[\"A_PARA\",\"A_GESTA\",\"EUTOCITO_ANTERIOR\",\"VENTOSAS_ANTERIOR\",\"FORCEPS_ANTERIOR\",\"CESARIANAS_ANTERIOR\",\"BISHOP_SCORE\",\n",
    "\"BISHOP_CONSISTENCIA\",\n",
    "\"BISHOP_DESCIDA\",\n",
    "\"BISHOP_DILATACAO\",\n",
    "\"BISHOP_EXTINCAO\",\n",
    "\"BISHOP_POSICAO\"]\n",
    "\n",
    "int_cols = [\n",
    "    \"IDADE_MATERNA\",\n",
    "    \"PESO_INICIAL\",\n",
    "    \"IMC\",\n",
    "    \"NUMERO_CONSULTAS_PRE_NATAL\",\n",
    "    \"IDADE_GESTACIONAL_ADMISSAO\",\n",
    "    \"SEMANAS_GESTACAO_PARTO\",\n",
    "    \"PESO_ADMISSAO_INTERNAMENTO\",\n",
    "    \"ESTIMATIVA_PESO_ECO_30\",\n",
    "    \"ESTIMATIVA_PESO_ECO_31\",\n",
    "    \"ESTIMATIVA_PESO_ECO_32\",\n",
    "    \"ESTIMATIVA_PESO_ECO_24\",\n",
    "\"ESTIMATIVA_PESO_ECO_25\",\n",
    "\"ESTIMATIVA_PESO_ECO_26\",\n",
    "\"ESTIMATIVA_PESO_ECO_27\",\n",
    "\"ESTIMATIVA_PESO_ECO_28\",\n",
    "\"ESTIMATIVA_PESO_ECO_29\",\n",
    "\"ESTIMATIVA_PESO_ECO_33\",\n",
    "\"ESTIMATIVA_PESO_ECO_34\",\n",
    "\"ESTIMATIVA_PESO_ECO_35\",\n",
    "\"ESTIMATIVA_PESO_ECO_36\",\n",
    "\"ESTIMATIVA_PESO_ECO_37\",\n",
    "\"ESTIMATIVA_PESO_ECO_38\",\n",
    "\"ESTIMATIVA_PESO_ECO_39\",\n",
    "\"ESTIMATIVA_PESO_ECO_40\",\n",
    "\"ESTIMATIVA_PESO_ECO_41\"]\n",
    "cat_cols = list(set(silo_1_unique.columns)  - set(int_cols) -set(ord_cols))"
   ]
  },
  {
   "cell_type": "code",
   "execution_count": 41,
   "id": "be6d885d-08da-4689-9951-5e87015dbe3b",
   "metadata": {
    "execution": {
     "iopub.execute_input": "2022-07-29T15:04:47.084178Z",
     "iopub.status.busy": "2022-07-29T15:04:47.084110Z",
     "iopub.status.idle": "2022-07-29T15:04:47.087883Z",
     "shell.execute_reply": "2022-07-29T15:04:47.087629Z",
     "shell.execute_reply.started": "2022-07-29T15:04:47.084169Z"
    }
   },
   "outputs": [],
   "source": [
    "ord_cols=[col for col in ord_cols if col  in silo_1_unique.columns ]\n",
    "int_cols=[col for col in int_cols if col  in silo_1_unique.columns ]\n"
   ]
  },
  {
   "cell_type": "code",
   "execution_count": 42,
   "id": "2703f93a-e349-4466-b5b3-e221af5a8c32",
   "metadata": {
    "execution": {
     "iopub.execute_input": "2022-07-29T15:04:47.088387Z",
     "iopub.status.busy": "2022-07-29T15:04:47.088326Z",
     "iopub.status.idle": "2022-07-29T15:04:47.223271Z",
     "shell.execute_reply": "2022-07-29T15:04:47.222899Z",
     "shell.execute_reply.started": "2022-07-29T15:04:47.088379Z"
    },
    "tags": []
   },
   "outputs": [],
   "source": [
    "silo1 = pd.read_csv(\n",
    "    \"/Users/joaoalmeida/Desktop/tese_local/chvng/CHVNGE_OBSCARE_WCR.csv\", sep=\";\"\n",
    ")"
   ]
  },
  {
   "cell_type": "code",
   "execution_count": 43,
   "id": "ba21e694-3bcf-4c83-befa-807514d184ec",
   "metadata": {
    "execution": {
     "iopub.execute_input": "2022-07-29T15:04:47.224821Z",
     "iopub.status.busy": "2022-07-29T15:04:47.224657Z",
     "iopub.status.idle": "2022-07-29T15:04:47.253081Z",
     "shell.execute_reply": "2022-07-29T15:04:47.252793Z",
     "shell.execute_reply.started": "2022-07-29T15:04:47.224810Z"
    },
    "tags": []
   },
   "outputs": [],
   "source": [
    "silo1.drop_duplicates(inplace=True)"
   ]
  },
  {
   "cell_type": "code",
   "execution_count": 44,
   "id": "8863bd6a-72c6-4b86-bd93-34d76f4433cb",
   "metadata": {
    "execution": {
     "iopub.execute_input": "2022-07-29T15:04:47.253540Z",
     "iopub.status.busy": "2022-07-29T15:04:47.253468Z",
     "iopub.status.idle": "2022-07-29T15:04:47.255356Z",
     "shell.execute_reply": "2022-07-29T15:04:47.255109Z",
     "shell.execute_reply.started": "2022-07-29T15:04:47.253531Z"
    },
    "tags": []
   },
   "outputs": [],
   "source": [
    "dup_keys=[\"IDENTIFICADOR\",\"DATA_PARTO\",\"IDADE_MATERNA\"]"
   ]
  },
  {
   "cell_type": "code",
   "execution_count": 45,
   "id": "330fc79e-ded5-4c6a-b551-d2c1f2424e0b",
   "metadata": {
    "execution": {
     "iopub.execute_input": "2022-07-29T15:04:47.255729Z",
     "iopub.status.busy": "2022-07-29T15:04:47.255672Z",
     "iopub.status.idle": "2022-07-29T15:04:47.257907Z",
     "shell.execute_reply": "2022-07-29T15:04:47.257676Z",
     "shell.execute_reply.started": "2022-07-29T15:04:47.255721Z"
    },
    "tags": []
   },
   "outputs": [],
   "source": [
    "def remove_duplicates_keep_higher_info(x):\n",
    "    \n",
    "    if len(x)==1:\n",
    "        return x.index[0]\n",
    "    else:\n",
    "        null_value=0\n",
    "        for k,r in x.iterrows():\n",
    "         #   print(k)\n",
    "            if r.isnull().sum()>null_value:\n",
    "                null_value=r.isnull().sum()\n",
    "                return_index=k\n",
    "       # print(return_index)\n",
    "        return return_index\n",
    "       # print(x.name)\n",
    "        #print(x.index)\n",
    "        #print(x.isnull().sum(axis=1))\n",
    "        #print(x.index[0])\n",
    "        #print(x.iloc[0,:])\n",
    "        #print(x.iloc[x.index[0],:])"
   ]
  },
  {
   "cell_type": "code",
   "execution_count": 46,
   "id": "9cbe1317-4b42-4a17-8955-971bf0392a98",
   "metadata": {
    "execution": {
     "iopub.execute_input": "2022-07-29T15:04:47.258416Z",
     "iopub.status.busy": "2022-07-29T15:04:47.258292Z",
     "iopub.status.idle": "2022-07-29T15:04:47.469956Z",
     "shell.execute_reply": "2022-07-29T15:04:47.469658Z",
     "shell.execute_reply.started": "2022-07-29T15:04:47.258407Z"
    },
    "tags": []
   },
   "outputs": [],
   "source": [
    "silo_unique_index=silo1.groupby(dup_keys, group_keys=False).apply(lambda x: remove_duplicates_keep_higher_info(x))\n",
    "#x.loc[x.B.idxmax()]"
   ]
  },
  {
   "cell_type": "code",
   "execution_count": 47,
   "id": "c50a9847-65b2-4af2-9f3b-f7a9db19336a",
   "metadata": {
    "execution": {
     "iopub.execute_input": "2022-07-29T15:04:47.470502Z",
     "iopub.status.busy": "2022-07-29T15:04:47.470427Z",
     "iopub.status.idle": "2022-07-29T15:04:47.476364Z",
     "shell.execute_reply": "2022-07-29T15:04:47.476050Z",
     "shell.execute_reply.started": "2022-07-29T15:04:47.470492Z"
    },
    "tags": []
   },
   "outputs": [],
   "source": [
    "silo_1_unique=silo1.iloc[silo_unique_index.values,:]"
   ]
  },
  {
   "cell_type": "code",
   "execution_count": 48,
   "id": "e746ea54-e1c5-468a-ad89-4002f1b11fa5",
   "metadata": {
    "execution": {
     "iopub.execute_input": "2022-07-29T15:04:47.476933Z",
     "iopub.status.busy": "2022-07-29T15:04:47.476844Z",
     "iopub.status.idle": "2022-07-29T15:04:47.753704Z",
     "shell.execute_reply": "2022-07-29T15:04:47.753397Z",
     "shell.execute_reply.started": "2022-07-29T15:04:47.476923Z"
    },
    "tags": []
   },
   "outputs": [
    {
     "name": "stderr",
     "output_type": "stream",
     "text": [
      "/var/folders/8g/rym67m5d29dcjm2td47sgb_m0000gn/T/ipykernel_22612/2327432513.py:11: SettingWithCopyWarning: \n",
      "A value is trying to be set on a copy of a slice from a DataFrame.\n",
      "Try using .loc[row_indexer,col_indexer] = value instead\n",
      "\n",
      "See the caveats in the documentation: https://pandas.pydata.org/pandas-docs/stable/user_guide/indexing.html#returning-a-view-versus-a-copy\n",
      "  silo_1_unique[col]=silo_1_unique[col].apply(standardize_null,mapping=standard_map)\n"
     ]
    }
   ],
   "source": [
    "unique_values={}\n",
    "standard_map={\"ADEQUADA\":\"A\",\"LIMITE\":\"L\",\"DESCONHECIDO,RH_DESCONHECIDO\":np.nan,\"DESCONHECIDO,\":np.nan,\"SIM\":\"S\",\"NAO\":\"N\",\"-1\":np.nan,-1:np.nan,\"NS\":np.nan,\",\":np.nan,\"Sim\":\"S\",\"UNKNOWN\":np.nan,\"Desconhecida\":np.nan,\"Desconhecido\":np.nan,\"DESCONHECIDO\":np.nan,\" \":np.nan,\"Desconhecido,\":np.nan,\"  \":np.nan}\n",
    "def standardize_null(x,mapping):\n",
    "    if x in mapping.keys():\n",
    "        return mapping[x]\n",
    "    if pd.isna(x):\n",
    "        return np.nan\n",
    "    return x\n",
    "\n",
    "for col in silo_1_unique.columns:\n",
    "    silo_1_unique[col]=silo_1_unique[col].apply(standardize_null,mapping=standard_map)\n",
    "        "
   ]
  },
  {
   "cell_type": "code",
   "execution_count": 49,
   "id": "a0626dd8-0c27-48c7-8edd-9d0d8a2fbbe2",
   "metadata": {
    "execution": {
     "iopub.execute_input": "2022-07-29T15:04:47.754258Z",
     "iopub.status.busy": "2022-07-29T15:04:47.754192Z",
     "iopub.status.idle": "2022-07-29T15:04:47.761943Z",
     "shell.execute_reply": "2022-07-29T15:04:47.761640Z",
     "shell.execute_reply.started": "2022-07-29T15:04:47.754249Z"
    },
    "tags": []
   },
   "outputs": [],
   "source": [
    "nulls=silo_1_unique.isnull().sum()/len(silo_1_unique)*100"
   ]
  },
  {
   "cell_type": "code",
   "execution_count": 50,
   "id": "dcc98dbd-2114-4cbd-9d3c-80eead3185d5",
   "metadata": {
    "execution": {
     "iopub.execute_input": "2022-07-29T15:04:47.762510Z",
     "iopub.status.busy": "2022-07-29T15:04:47.762430Z",
     "iopub.status.idle": "2022-07-29T15:04:47.764552Z",
     "shell.execute_reply": "2022-07-29T15:04:47.764261Z",
     "shell.execute_reply.started": "2022-07-29T15:04:47.762500Z"
    },
    "tags": []
   },
   "outputs": [],
   "source": [
    "null_dict={}\n",
    "for index, value in nulls.items():\n",
    "    null_dict[index]=100-round(value)"
   ]
  },
  {
   "cell_type": "code",
   "execution_count": 52,
   "id": "56590032-8361-45bd-9364-cd4390c99825",
   "metadata": {
    "execution": {
     "iopub.execute_input": "2022-07-29T15:04:47.770307Z",
     "iopub.status.busy": "2022-07-29T15:04:47.770197Z",
     "iopub.status.idle": "2022-07-29T15:04:47.773391Z",
     "shell.execute_reply": "2022-07-29T15:04:47.772985Z",
     "shell.execute_reply.started": "2022-07-29T15:04:47.770297Z"
    },
    "tags": []
   },
   "outputs": [],
   "source": [
    "json = json.dumps(null_dict)\n",
    "# open file for writing, \"w\" \n",
    "f = open(\"null_dict.json\",\"w\")\n",
    "# write json object to file\n",
    "f.write(json)\n",
    "# close file\n",
    "f.close()"
   ]
  },
  {
   "cell_type": "code",
   "execution_count": 53,
   "id": "e22e5f91-a18b-4c5e-8262-d1f1474d611f",
   "metadata": {
    "execution": {
     "iopub.execute_input": "2022-07-29T15:04:47.774220Z",
     "iopub.status.busy": "2022-07-29T15:04:47.774116Z",
     "iopub.status.idle": "2022-07-29T15:04:47.776339Z",
     "shell.execute_reply": "2022-07-29T15:04:47.776101Z",
     "shell.execute_reply.started": "2022-07-29T15:04:47.774212Z"
    },
    "tags": []
   },
   "outputs": [],
   "source": [
    "#calculate interquartile range \n",
    "def create_iqr(df,col):\n",
    "    q3, q1 = np.percentile(df.loc[pd.notna(df[col]),col], [75 ,25])\n",
    "    iqr = q3 - q1\n",
    "    return q1,q3,iqr"
   ]
  },
  {
   "cell_type": "code",
   "execution_count": 56,
   "id": "5251d591-598c-4df3-8857-9b6934f5fa41",
   "metadata": {
    "execution": {
     "iopub.execute_input": "2022-07-29T15:06:44.410934Z",
     "iopub.status.busy": "2022-07-29T15:06:44.410245Z",
     "iopub.status.idle": "2022-07-29T15:06:44.438656Z",
     "shell.execute_reply": "2022-07-29T15:06:44.438176Z",
     "shell.execute_reply.started": "2022-07-29T15:06:44.410879Z"
    },
    "tags": []
   },
   "outputs": [
    {
     "name": "stdout",
     "output_type": "stream",
     "text": [
      "IDADE_MATERNA\n",
      "PESO_INICIAL\n",
      "IMC\n",
      "NUMERO_CONSULTAS_PRE_NATAL\n",
      "IDADE_GESTACIONAL_ADMISSAO\n",
      "SEMANAS_GESTACAO_PARTO\n",
      "PESO_ADMISSAO_INTERNAMENTO\n",
      "ESTIMATIVA_PESO_ECO_30\n",
      "ESTIMATIVA_PESO_ECO_31\n",
      "ESTIMATIVA_PESO_ECO_32\n",
      "ESTIMATIVA_PESO_ECO_24\n",
      "ESTIMATIVA_PESO_ECO_25\n",
      "ESTIMATIVA_PESO_ECO_26\n",
      "ESTIMATIVA_PESO_ECO_27\n",
      "ESTIMATIVA_PESO_ECO_28\n",
      "ESTIMATIVA_PESO_ECO_29\n",
      "ESTIMATIVA_PESO_ECO_33\n",
      "ESTIMATIVA_PESO_ECO_34\n",
      "ESTIMATIVA_PESO_ECO_35\n",
      "ESTIMATIVA_PESO_ECO_36\n",
      "ESTIMATIVA_PESO_ECO_37\n",
      "ESTIMATIVA_PESO_ECO_38\n",
      "ESTIMATIVA_PESO_ECO_39\n",
      "ESTIMATIVA_PESO_ECO_40\n",
      "ESTIMATIVA_PESO_ECO_41\n"
     ]
    }
   ],
   "source": [
    "iqr_dict={}\n",
    "for col in int_cols:\n",
    "    print(col)\n",
    "    if silo_1_unique[col].isnull().sum()/len(silo_1_unique)==1:\n",
    "        continue\n",
    "    q1,q3,iqr=create_iqr(silo_1_unique,col)\n",
    "    iqr_dict[col]={\"q1\":q1,\"q3\":q3,\"iqr\":iqr}\n",
    "  #  silo_1_unique[col+\"_outlier\"]=silo_1_unique[col].apply(checkoutlier,iqr=iqr,q1=q1,q3=q3)"
   ]
  },
  {
   "cell_type": "code",
   "execution_count": 57,
   "id": "29816a92-2f7d-4bef-a0ff-9973b23df9fc",
   "metadata": {
    "execution": {
     "iopub.execute_input": "2022-07-29T15:06:50.355248Z",
     "iopub.status.busy": "2022-07-29T15:06:50.354601Z",
     "iopub.status.idle": "2022-07-29T15:06:50.370464Z",
     "shell.execute_reply": "2022-07-29T15:06:50.369828Z",
     "shell.execute_reply.started": "2022-07-29T15:06:50.355193Z"
    }
   },
   "outputs": [
    {
     "data": {
      "text/plain": [
       "{'IDADE_MATERNA': {'q1': 27.0, 'q3': 35.0, 'iqr': 8.0},\n",
       " 'PESO_INICIAL': {'q1': 56.0, 'q3': 74.0, 'iqr': 18.0},\n",
       " 'IMC': {'q1': 21.5, 'q3': 27.7, 'iqr': 6.199999999999999},\n",
       " 'NUMERO_CONSULTAS_PRE_NATAL': {'q1': 3.0, 'q3': 9.0, 'iqr': 6.0},\n",
       " 'IDADE_GESTACIONAL_ADMISSAO': {'q1': 38.0, 'q3': 40.0, 'iqr': 2.0},\n",
       " 'SEMANAS_GESTACAO_PARTO': {'q1': 39.0, 'q3': 40.0, 'iqr': 1.0},\n",
       " 'PESO_ADMISSAO_INTERNAMENTO': {'q1': 73.0, 'q3': 90.0, 'iqr': 17.0},\n",
       " 'ESTIMATIVA_PESO_ECO_30': {'q1': 1503.0, 'q3': 1710.0, 'iqr': 207.0},\n",
       " 'ESTIMATIVA_PESO_ECO_31': {'q1': 1651.0, 'q3': 1885.0, 'iqr': 234.0},\n",
       " 'ESTIMATIVA_PESO_ECO_32': {'q1': 1799.0, 'q3': 2076.0, 'iqr': 277.0},\n",
       " 'ESTIMATIVA_PESO_ECO_24': {'q1': 655.5, 'q3': 741.0, 'iqr': 85.5},\n",
       " 'ESTIMATIVA_PESO_ECO_25': {'q1': 755.0, 'q3': 876.75, 'iqr': 121.75},\n",
       " 'ESTIMATIVA_PESO_ECO_26': {'q1': 880.25, 'q3': 989.0, 'iqr': 108.75},\n",
       " 'ESTIMATIVA_PESO_ECO_27': {'q1': 1012.0, 'q3': 1166.0, 'iqr': 154.0},\n",
       " 'ESTIMATIVA_PESO_ECO_28': {'q1': 1151.5, 'q3': 1318.5, 'iqr': 167.0},\n",
       " 'ESTIMATIVA_PESO_ECO_29': {'q1': 1304.5, 'q3': 1508.0, 'iqr': 203.5},\n",
       " 'ESTIMATIVA_PESO_ECO_33': {'q1': 1938.5, 'q3': 2282.0, 'iqr': 343.5},\n",
       " 'ESTIMATIVA_PESO_ECO_34': {'q1': 2136.25, 'q3': 2536.75, 'iqr': 400.5},\n",
       " 'ESTIMATIVA_PESO_ECO_35': {'q1': 2365.0, 'q3': 2772.0, 'iqr': 407.0},\n",
       " 'ESTIMATIVA_PESO_ECO_36': {'q1': 2530.0, 'q3': 2979.0, 'iqr': 449.0},\n",
       " 'ESTIMATIVA_PESO_ECO_37': {'q1': 2671.75, 'q3': 3160.0, 'iqr': 488.25},\n",
       " 'ESTIMATIVA_PESO_ECO_38': {'q1': 2786.25, 'q3': 3368.75, 'iqr': 582.5},\n",
       " 'ESTIMATIVA_PESO_ECO_39': {'q1': 2925.25, 'q3': 3527.5, 'iqr': 602.25},\n",
       " 'ESTIMATIVA_PESO_ECO_40': {'q1': 3065.0, 'q3': 3701.0, 'iqr': 636.0}}"
      ]
     },
     "execution_count": 57,
     "metadata": {},
     "output_type": "execute_result"
    }
   ],
   "source": [
    "iqr_dict"
   ]
  },
  {
   "cell_type": "code",
   "execution_count": 59,
   "id": "f72cc966-ae89-4875-a156-76984920bd2c",
   "metadata": {
    "execution": {
     "iopub.execute_input": "2022-07-29T15:07:34.670538Z",
     "iopub.status.busy": "2022-07-29T15:07:34.670241Z",
     "iopub.status.idle": "2022-07-29T15:07:34.678839Z",
     "shell.execute_reply": "2022-07-29T15:07:34.675919Z",
     "shell.execute_reply.started": "2022-07-29T15:07:34.670513Z"
    }
   },
   "outputs": [],
   "source": [
    "json = json.dumps(iqr_dict)\n",
    "# open file for writing, \"w\" \n",
    "f = open(\"iqr_dict.json\",\"w\")\n",
    "# write json object to file\n",
    "f.write(json)\n",
    "# close file\n",
    "f.close()"
   ]
  },
  {
   "cell_type": "code",
   "execution_count": null,
   "id": "f9a2a300-edfe-4588-9a7d-30ca21a7f72e",
   "metadata": {},
   "outputs": [],
   "source": []
  }
 ],
 "metadata": {
  "kernelspec": {
   "display_name": "Python 3 (ipykernel)",
   "language": "python",
   "name": "python3"
  },
  "language_info": {
   "codemirror_mode": {
    "name": "ipython",
    "version": 3
   },
   "file_extension": ".py",
   "mimetype": "text/x-python",
   "name": "python",
   "nbconvert_exporter": "python",
   "pygments_lexer": "ipython3",
   "version": "3.9.7"
  },
  "vscode": {
   "interpreter": {
    "hash": "decfb96486dd89f89c2598b4e0cc278601247f7ab503e483e1f0537bf3d725c0"
   }
  }
 },
 "nbformat": 4,
 "nbformat_minor": 5
}
