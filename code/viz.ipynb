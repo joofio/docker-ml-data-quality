{
 "cells": [
  {
   "cell_type": "code",
   "execution_count": 62,
   "metadata": {},
   "outputs": [],
   "source": [
    "import json \n",
    "import pandas as pd\n",
    "from collections import ChainMap\n",
    "import numpy as np\n",
    "import scipy.stats"
   ]
  },
  {
   "cell_type": "code",
   "execution_count": 63,
   "metadata": {},
   "outputs": [],
   "source": [
    "# Opening JSON file\n",
    "f = open('../cross-val-f (1).json')\n",
    " \n",
    "# returns JSON object as\n",
    "# a dictionary\n",
    "d2 = json.load(f)\n",
    "# Closing file\n",
    "f.close()\n"
   ]
  },
  {
   "cell_type": "code",
   "execution_count": 64,
   "metadata": {},
   "outputs": [
    {
     "data": {
      "text/plain": [
       "24"
      ]
     },
     "execution_count": 64,
     "metadata": {},
     "output_type": "execute_result"
    }
   ],
   "source": [
    "len(d2.keys())"
   ]
  },
  {
   "cell_type": "code",
   "execution_count": 65,
   "metadata": {},
   "outputs": [],
   "source": [
    "# Calculate the 95% confidence interval\n",
    "confidence = 0.95\n",
    "result_data={}\n",
    "for k,v in d2.items():\n",
    "    # Calculate mean and standard deviation\n",
    "    #print(k,v)\n",
    "    mean = np.mean(v)\n",
    "    std_dev = np.std(v)\n",
    "    std_err = std_dev / np.sqrt(len(v))\n",
    "\n",
    "    ci = scipy.stats.t.interval(confidence, len(v) - 1, loc=mean, scale=std_err)\n",
    "   # print(ci)\n",
    "    ci_round = (round(ci[0], 3), round(ci[1], 3))\n",
    "\n",
    "    result_data[k.replace(\"num__\",\"\").replace(\"cat__\",\"\")]=[mean,ci_round]\n"
   ]
  },
  {
   "cell_type": "code",
   "execution_count": 66,
   "metadata": {},
   "outputs": [],
   "source": [
    "df=pd.DataFrame(result_data).T"
   ]
  },
  {
   "cell_type": "code",
   "execution_count": 67,
   "metadata": {},
   "outputs": [],
   "source": [
    "df.columns=[\"mean\",\"CI\"]"
   ]
  },
  {
   "cell_type": "code",
   "execution_count": 68,
   "metadata": {},
   "outputs": [],
   "source": [
    "var_mapping={'IDADE_MATERNA': 'IA',\n",
    " 'GS': 'GS',\n",
    " 'PESO_INICIAL': 'PI',\n",
    " 'PESO_ADMISSAO_INTERNAMENTO': 'PAI',\n",
    " 'IMC': 'IMC',\n",
    " 'CIGARROS': 'CIG',\n",
    " 'ALCOOL': 'ALC',\n",
    " 'ESTUPEFACIENTES': 'ESTP',\n",
    " 'A_PARA': 'APARA',\n",
    " 'A_GESTA': 'AGESTA',\n",
    " 'EUTOCITO_ANTERIOR': 'EA',\n",
    " 'VENTOSAS_ANTERIOR': 'VA',\n",
    " 'FORCEPS_ANTERIOR': 'FA',\n",
    " 'CESARIANAS_ANTERIOR': 'CA',\n",
    " 'TIPO_GRAVIDEZ': 'TG',\n",
    " 'VIGIADA': 'V',\n",
    " 'NUMERO_CONSULTAS_PRE_NATAL': 'NRCPN',\n",
    " 'VIGIADA_PARICULAR': 'VP',\n",
    " 'VIGIADA_CENTRO_SAUDE': 'VCS',\n",
    " 'VIGIADA_NESTE_HOSPITAL': 'VNH',\n",
    " 'E_ALT_UT': 'EALTUT',\n",
    " 'BACIA': 'B',\n",
    " 'APRESENTACAO_ADMISSAO': 'AA',\n",
    " 'BISHOP_SCORE': 'BS',\n",
    " 'BISHOP_CONSISTENCIA': 'BC',\n",
    " 'BISHOP_DESCIDA': 'BDE',\n",
    " 'BISHOP_DILATACAO': 'BDI',\n",
    " 'BISHOP_EXTINCAO': 'BE',\n",
    " 'BISHOP_POSICAO': 'BP',\n",
    " 'IDADE_GESTACIONAL_ADMISSAO': 'IGA',\n",
    " 'TRAB_PARTO_ENTRADA_ESPONTANEO': 'TPEE',\n",
    " 'TRAB_PARTO_ENTRADA_INDUZIDO': 'TPEI',\n",
    " 'RPM': 'RPM',\n",
    " 'HIPERTENSAO_CRONICA': 'HC',\n",
    " 'HIPERTENSAO_GESTACIONAL': 'HG',\n",
    " 'HIPERTENSAO_PRE_ECLAMPSIA': 'HPE',\n",
    " 'DIABETES_GESTACIONAL': 'DG',\n",
    " 'DIABETES_GESTACIONAL_DIETA': 'DGD',\n",
    " 'DIABETES_GESTACIONAL_INSULINA': 'DGI',\n",
    " 'DIABETES_GESTACIONAL_ANTIBIO': 'DGA',\n",
    " 'DIABETES_MATERNA': 'DM',\n",
    " 'DIABETES_TIPO1': 'DT1',\n",
    " 'DIABETES_TIPO2': 'DT2',\n",
    " 'HEMATOLOGICA': 'H',\n",
    " 'RESPIRATORIA': 'R',\n",
    " 'CEREBRAL': 'CE',\n",
    " 'CARDIACA': 'CARD',\n",
    " 'TIPO_PARTO': 'TP',\n",
    " 'APRESENTACAO_NO_PARTO': 'ANP',\n",
    " 'TRAB_PARTO_NO_PARTO': 'TPNP',\n",
    " 'SEMANAS_GESTACAO_PARTO': 'SGP',\n",
    " 'GRUPO_ROBSON': 'GR'}\n"
   ]
  },
  {
   "cell_type": "code",
   "execution_count": 69,
   "metadata": {},
   "outputs": [],
   "source": [
    "var_mapping[\"silo\"]=\"S\"\n",
    "var_mapping[\"A_GESTA\"]=\"AG\"\n",
    "var_mapping[\"A_PARA\"]=\"AP\"\n",
    "var_mapping[\"NUMERO_CONSULTAS_PRE_NATAL\"]=\"NRC\""
   ]
  },
  {
   "cell_type": "code",
   "execution_count": 70,
   "metadata": {},
   "outputs": [],
   "source": [
    "df.rename(index=var_mapping,inplace=True)"
   ]
  },
  {
   "cell_type": "code",
   "execution_count": 71,
   "metadata": {},
   "outputs": [
    {
     "data": {
      "text/html": [
       "<div>\n",
       "<style scoped>\n",
       "    .dataframe tbody tr th:only-of-type {\n",
       "        vertical-align: middle;\n",
       "    }\n",
       "\n",
       "    .dataframe tbody tr th {\n",
       "        vertical-align: top;\n",
       "    }\n",
       "\n",
       "    .dataframe thead th {\n",
       "        text-align: right;\n",
       "    }\n",
       "</style>\n",
       "<table border=\"1\" class=\"dataframe\">\n",
       "  <thead>\n",
       "    <tr style=\"text-align: right;\">\n",
       "      <th></th>\n",
       "      <th>mean</th>\n",
       "      <th>CI</th>\n",
       "    </tr>\n",
       "  </thead>\n",
       "  <tbody>\n",
       "    <tr>\n",
       "      <th>AP</th>\n",
       "      <td>0.944124</td>\n",
       "      <td>(0.943, 0.945)</td>\n",
       "    </tr>\n",
       "    <tr>\n",
       "      <th>AG</th>\n",
       "      <td>0.797124</td>\n",
       "      <td>(0.778, 0.816)</td>\n",
       "    </tr>\n",
       "    <tr>\n",
       "      <th>EA</th>\n",
       "      <td>0.968539</td>\n",
       "      <td>(0.968, 0.969)</td>\n",
       "    </tr>\n",
       "    <tr>\n",
       "      <th>CA</th>\n",
       "      <td>0.957887</td>\n",
       "      <td>(0.958, 0.958)</td>\n",
       "    </tr>\n",
       "    <tr>\n",
       "      <th>IA</th>\n",
       "      <td>0.637568</td>\n",
       "      <td>(0.637, 0.638)</td>\n",
       "    </tr>\n",
       "    <tr>\n",
       "      <th>PI</th>\n",
       "      <td>0.880559</td>\n",
       "      <td>(0.88, 0.881)</td>\n",
       "    </tr>\n",
       "    <tr>\n",
       "      <th>IMC</th>\n",
       "      <td>0.881438</td>\n",
       "      <td>(0.881, 0.882)</td>\n",
       "    </tr>\n",
       "    <tr>\n",
       "      <th>NRC</th>\n",
       "      <td>0.749891</td>\n",
       "      <td>(0.75, 0.75)</td>\n",
       "    </tr>\n",
       "    <tr>\n",
       "      <th>IGA</th>\n",
       "      <td>0.968463</td>\n",
       "      <td>(0.968, 0.969)</td>\n",
       "    </tr>\n",
       "    <tr>\n",
       "      <th>SGP</th>\n",
       "      <td>0.973802</td>\n",
       "      <td>(0.974, 0.974)</td>\n",
       "    </tr>\n",
       "    <tr>\n",
       "      <th>VA</th>\n",
       "      <td>0.974091</td>\n",
       "      <td>(0.974, 0.974)</td>\n",
       "    </tr>\n",
       "    <tr>\n",
       "      <th>TG</th>\n",
       "      <td>0.727991</td>\n",
       "      <td>(0.726, 0.73)</td>\n",
       "    </tr>\n",
       "    <tr>\n",
       "      <th>VNH</th>\n",
       "      <td>0.894009</td>\n",
       "      <td>(0.893, 0.895)</td>\n",
       "    </tr>\n",
       "    <tr>\n",
       "      <th>TPEE</th>\n",
       "      <td>0.815621</td>\n",
       "      <td>(0.815, 0.816)</td>\n",
       "    </tr>\n",
       "    <tr>\n",
       "      <th>AA</th>\n",
       "      <td>0.750587</td>\n",
       "      <td>(0.743, 0.758)</td>\n",
       "    </tr>\n",
       "    <tr>\n",
       "      <th>GR</th>\n",
       "      <td>0.93075</td>\n",
       "      <td>(0.93, 0.932)</td>\n",
       "    </tr>\n",
       "    <tr>\n",
       "      <th>V</th>\n",
       "      <td>0.98281</td>\n",
       "      <td>(0.982, 0.983)</td>\n",
       "    </tr>\n",
       "    <tr>\n",
       "      <th>TP</th>\n",
       "      <td>0.866478</td>\n",
       "      <td>(0.865, 0.868)</td>\n",
       "    </tr>\n",
       "    <tr>\n",
       "      <th>VCS</th>\n",
       "      <td>0.790169</td>\n",
       "      <td>(0.789, 0.791)</td>\n",
       "    </tr>\n",
       "    <tr>\n",
       "      <th>ANP</th>\n",
       "      <td>0.942035</td>\n",
       "      <td>(0.938, 0.946)</td>\n",
       "    </tr>\n",
       "    <tr>\n",
       "      <th>GS</th>\n",
       "      <td>0.513527</td>\n",
       "      <td>(0.507, 0.52)</td>\n",
       "    </tr>\n",
       "    <tr>\n",
       "      <th>S</th>\n",
       "      <td>0.89643</td>\n",
       "      <td>(0.896, 0.897)</td>\n",
       "    </tr>\n",
       "    <tr>\n",
       "      <th>VP</th>\n",
       "      <td>0.771067</td>\n",
       "      <td>(0.77, 0.772)</td>\n",
       "    </tr>\n",
       "    <tr>\n",
       "      <th>TPNP</th>\n",
       "      <td>0.951576</td>\n",
       "      <td>(0.951, 0.952)</td>\n",
       "    </tr>\n",
       "  </tbody>\n",
       "</table>\n",
       "</div>"
      ],
      "text/plain": [
       "          mean              CI\n",
       "AP    0.944124  (0.943, 0.945)\n",
       "AG    0.797124  (0.778, 0.816)\n",
       "EA    0.968539  (0.968, 0.969)\n",
       "CA    0.957887  (0.958, 0.958)\n",
       "IA    0.637568  (0.637, 0.638)\n",
       "PI    0.880559   (0.88, 0.881)\n",
       "IMC   0.881438  (0.881, 0.882)\n",
       "NRC   0.749891    (0.75, 0.75)\n",
       "IGA   0.968463  (0.968, 0.969)\n",
       "SGP   0.973802  (0.974, 0.974)\n",
       "VA    0.974091  (0.974, 0.974)\n",
       "TG    0.727991   (0.726, 0.73)\n",
       "VNH   0.894009  (0.893, 0.895)\n",
       "TPEE  0.815621  (0.815, 0.816)\n",
       "AA    0.750587  (0.743, 0.758)\n",
       "GR     0.93075   (0.93, 0.932)\n",
       "V      0.98281  (0.982, 0.983)\n",
       "TP    0.866478  (0.865, 0.868)\n",
       "VCS   0.790169  (0.789, 0.791)\n",
       "ANP   0.942035  (0.938, 0.946)\n",
       "GS    0.513527   (0.507, 0.52)\n",
       "S      0.89643  (0.896, 0.897)\n",
       "VP    0.771067   (0.77, 0.772)\n",
       "TPNP  0.951576  (0.951, 0.952)"
      ]
     },
     "execution_count": 71,
     "metadata": {},
     "output_type": "execute_result"
    }
   ],
   "source": [
    "df"
   ]
  },
  {
   "cell_type": "code",
   "execution_count": 72,
   "metadata": {},
   "outputs": [
    {
     "name": "stdout",
     "output_type": "stream",
     "text": [
      "AP & 0.944 & [0.943, 0.945] & VNH & 0.894 & [0.893, 0.895] \\\\\n",
      "AG & 0.797 & [0.778, 0.816] & TPEE & 0.816 & [0.815, 0.816] \\\\\n",
      "EA & 0.969 & [0.968, 0.969] & AA & 0.751 & [0.743, 0.758] \\\\\n",
      "CA & 0.958 & [0.958, 0.958] & GR & 0.931 & [0.93, 0.932] \\\\\n",
      "IA & 0.638 & [0.637, 0.638] & V & 0.983 & [0.982, 0.983] \\\\\n",
      "PI & 0.881 & [0.88, 0.881] & TP & 0.866 & [0.865, 0.868] \\\\\n",
      "IMC & 0.881 & [0.881, 0.882] & VCS & 0.79 & [0.789, 0.791] \\\\\n",
      "NRC & 0.75 & [0.75, 0.75] & ANP & 0.942 & [0.938, 0.946] \\\\\n",
      "IGA & 0.968 & [0.968, 0.969] & GS & 0.514 & [0.507, 0.52] \\\\\n",
      "SGP & 0.974 & [0.974, 0.974] & S & 0.896 & [0.896, 0.897] \\\\\n",
      "VA & 0.974 & [0.974, 0.974] & VP & 0.771 & [0.77, 0.772] \\\\\n",
      "TG & 0.728 & [0.726, 0.73] & TPNP & 0.952 & [0.951, 0.952] \\\\\n"
     ]
    }
   ],
   "source": [
    "for i in range(0,12):\n",
    "    print(df.index[i]+\" & \"+str(round(df.iloc[i,0],3))+ \" & \" + str(df.iloc[i,1]).replace(\"(\",\"[\").replace(\")\",\"]\") +\" & \" + df.index[i+12]+\" & \"+str(round(df.iloc[i+12,0],3))+ \" & \" + str(df.iloc[i+12,1]).replace(\"(\",\"[\").replace(\")\",\"]\")+\" \\\\\\\\\")"
   ]
  },
  {
   "cell_type": "code",
   "execution_count": 73,
   "metadata": {},
   "outputs": [
    {
     "data": {
      "text/plain": [
       "0.857"
      ]
     },
     "execution_count": 73,
     "metadata": {},
     "output_type": "execute_result"
    }
   ],
   "source": [
    "round(np.mean(df[\"mean\"]),3)"
   ]
  },
  {
   "cell_type": "code",
   "execution_count": 74,
   "metadata": {},
   "outputs": [],
   "source": [
    "values=[]\n",
    "for k,v in d2.items():\n",
    "    # Calculate mean and standard deviation\n",
    "    #print(k,v)\n",
    "    values.extend(v)"
   ]
  },
  {
   "cell_type": "code",
   "execution_count": 79,
   "metadata": {},
   "outputs": [
    {
     "name": "stdout",
     "output_type": "stream",
     "text": [
      "0.8569389835423671 (0.846, 0.868)\n"
     ]
    }
   ],
   "source": [
    "# Calculate the 95% confidence interval\n",
    "confidence = 0.95\n",
    "mean = np.mean(values)\n",
    "std_dev = np.std(values)\n",
    "std_err = std_dev / np.sqrt(len(values))\n",
    "\n",
    "ci = scipy.stats.t.interval(confidence, len(values) - 1, loc=mean, scale=std_err)\n",
    "   # print(ci)\n",
    "ci_round = (round(ci[0], 3), round(ci[1], 3))\n",
    "print(mean,ci_round)\n"
   ]
  },
  {
   "cell_type": "code",
   "execution_count": null,
   "metadata": {},
   "outputs": [],
   "source": []
  }
 ],
 "metadata": {
  "kernelspec": {
   "display_name": "dq",
   "language": "python",
   "name": "python3"
  },
  "language_info": {
   "codemirror_mode": {
    "name": "ipython",
    "version": 3
   },
   "file_extension": ".py",
   "mimetype": "text/x-python",
   "name": "python",
   "nbconvert_exporter": "python",
   "pygments_lexer": "ipython3",
   "version": "3.9.16"
  },
  "orig_nbformat": 4
 },
 "nbformat": 4,
 "nbformat_minor": 2
}
