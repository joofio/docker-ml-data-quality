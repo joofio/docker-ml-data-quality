{
 "cells": [
  {
   "cell_type": "code",
   "execution_count": 1,
   "metadata": {},
   "outputs": [],
   "source": [
    "from pgmpy.sampling import BayesianModelSampling\n",
    "from pgmpy.models import BayesianNetwork\n",
    "from pgmpy.inference import VariableElimination,BeliefPropagation\n",
    "from pgmpy.estimators import BayesianEstimator,MaximumLikelihoodEstimator,PC, HillClimbSearch, ExhaustiveSearch\n",
    "from pgmpy.estimators import K2Score, BicScore\n",
    "from pgmpy.estimators import ExpectationMaximization as EM\n",
    "from pgmpy.readwrite import XMLBIFWriter,XMLBIFReader\n"
   ]
  },
  {
   "cell_type": "code",
   "execution_count": 2,
   "metadata": {},
   "outputs": [],
   "source": [
    "reader = XMLBIFReader(\"../model_total.xml\")\n",
    "model = reader.get_model()"
   ]
  },
  {
   "cell_type": "code",
   "execution_count": 5,
   "metadata": {},
   "outputs": [],
   "source": [
    "from pgmpy.readwrite import BIFWriter\n",
    "from pgmpy.utils import get_example_model\n",
    "writer = BIFWriter(model)\n",
    "writer.write_bif('../model_total.bif')"
   ]
  },
  {
   "cell_type": "code",
   "execution_count": 14,
   "metadata": {},
   "outputs": [
    {
     "name": "stdout",
     "output_type": "stream",
     "text": [
      "The modified content has been written to ../modified_model_total.net\n"
     ]
    }
   ],
   "source": [
    "import re\n",
    "\n",
    "# Read the file\n",
    "with open('../model_total.net', 'r') as file:\n",
    "    content = file.read()\n",
    "\n",
    "# Substitute numbers in scientific notation with natural number representation\n",
    "content = re.sub(r'(\\d+\\.\\d+)e-01', lambda match: str((float(match.group(1)) * 0.1)), content)\n",
    "\n",
    "# Print the modified content\n",
    "#print(content)\n",
    "content = re.sub(r'(\\d+\\.\\d+)e-02', lambda match: str((float(match.group(1)) * 0.01)), content)\n",
    "content = re.sub(r'(\\d+\\.\\d+)e-03', lambda match: str((float(match.group(1)) * 0.001)), content)\n",
    "content = re.sub(r'(\\d+\\.\\d+)e-04', lambda match: str((float(match.group(1)) * 0.0001)), content)\n",
    "content = re.sub(r'(\\d+\\.\\d+)e-05', lambda match: str((float(match.group(1)) * 0.00001)), content)\n",
    "\n",
    "# Specify the path of the new file\n",
    "new_file_path = '../modified_model_total.net'\n",
    "\n",
    "# Write the modified content to the new file\n",
    "with open(new_file_path, 'w') as file:\n",
    "    file.write(content)\n",
    "\n",
    "# Print a message to confirm that the file has been written\n",
    "print(f\"The modified content has been written to {new_file_path}\")\n",
    "# this work!!"
   ]
  }
 ],
 "metadata": {
  "kernelspec": {
   "display_name": "dq",
   "language": "python",
   "name": "python3"
  },
  "language_info": {
   "codemirror_mode": {
    "name": "ipython",
    "version": 3
   },
   "file_extension": ".py",
   "mimetype": "text/x-python",
   "name": "python",
   "nbconvert_exporter": "python",
   "pygments_lexer": "ipython3",
   "version": "3.9.16"
  }
 },
 "nbformat": 4,
 "nbformat_minor": 2
}
